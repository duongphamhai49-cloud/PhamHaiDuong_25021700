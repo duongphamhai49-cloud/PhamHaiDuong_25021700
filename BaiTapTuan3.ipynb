{
 "cells": [
  {
   "cell_type": "code",
   "execution_count": 5,
   "id": "4ad18f0d-1483-4eb6-b9c2-fef4bb07900b",
   "metadata": {},
   "outputs": [
    {
     "name": "stdin",
     "output_type": "stream",
     "text": [
      "Nhập a b: 1 2\n"
     ]
    },
    {
     "name": "stdout",
     "output_type": "stream",
     "text": [
      "Sử dụng XOR: 2 1\n",
      "Sử dụng toán tử: 2 1\n"
     ]
    }
   ],
   "source": [
    "# W3A2: \n",
    "# Hoán đổi hai số không sử dụng biến tạm thời\n",
    "# Sử dụng phép toán XOR trên bit để hoán đổi giá trị hai biến\n",
    "\n",
    "try:\n",
    "    a, b = map(int, input(\"Nhập a b:\").split())\n",
    "    a ^= b\n",
    "    b ^= a\n",
    "    a ^= b\n",
    "    print(\"Sử dụng XOR:\", a,  b)\n",
    "\n",
    "    # Nếu a, b là số thực thì dùng cách sau\n",
    "    a, b = b, a\n",
    "    \n",
    "    a = a + b\n",
    "    b = a - b\n",
    "    a = a - b\n",
    "    print(\"Sử dụng toán tử:\", a, b)\n",
    "except ValueError:\n",
    "    print(\"Đầu vào không hợp lệ\")"
   ]
  },
  {
   "cell_type": "code",
   "execution_count": 40,
   "id": "2e313551-85e3-4f1e-a040-ce91b88057e9",
   "metadata": {},
   "outputs": [
    {
     "name": "stdin",
     "output_type": "stream",
     "text": [
      "Nhập số cần kiểm tra: 9\n"
     ]
    },
    {
     "name": "stdout",
     "output_type": "stream",
     "text": [
      "------------------------------\n",
      "Dùng bitwise\n",
      "9 không phải lũy thừa của 2\n",
      "------------------------------\n",
      "Dùng logarith\n",
      "9 không phải lũy thừa của 2\n",
      "------------------------------\n",
      "Dùng while-loop\n",
      "9 không phải lũy thừa của 2\n"
     ]
    }
   ],
   "source": [
    "## W3A3: Kiểm tra một số có phải lũy thừa của 2 không\n",
    "\n",
    "import math\n",
    "\n",
    "try:\n",
    "    n = int(input(\"Nhập số cần kiểm tra:\"))\n",
    "    print('-' *30)\n",
    "    if n <= 0:\n",
    "        print(\"Nhập số nguyên dương\")\n",
    "    else:\n",
    "        print(\"Dùng bitwise\")     # Cách hiệu quả nhất\n",
    "        if n & (n-1) == 0:\n",
    "            pwr = n.bit_length()-1\n",
    "            print(f\"{n} là lũy thừa của 2 với số mũ {pwr}\")\n",
    "        else:\n",
    "            print(f\"{n} không phải lũy thừa của 2\")\n",
    "            \n",
    "        print('-' *30)\n",
    "        \n",
    "        print(\"Dùng logarith\")\n",
    "        pwr = math.log2(n)          # math.log luôn trả về số thực\n",
    "        if pwr.is_integer():         # isinstance() kiểm tra dữ liệu của biến\n",
    "            print(f\"{n} là lũy thừa của 2 với số mũ {pwr:g}\")\n",
    "        else:\n",
    "            print(f\"{n} không phải lũy thừa của 2\")\n",
    "\n",
    "        print('-' *30)\n",
    "        print(\"Dùng while-loop\")\n",
    "        temp = n\n",
    "        pwr = 0\n",
    "        while n % 2 == 0:\n",
    "            n //= 2\n",
    "            pwr += 1\n",
    "        if n == 1:\n",
    "            print(f\"{temp} là lũy thừa của 2 với số mũ {pwr}\")\n",
    "        else:\n",
    "            print(f\"{temp} không phải lũy thừa của 2\")\n",
    "except ValueError:\n",
    "    print(\"Đầu vào không hợp lệ\")"
   ]
  },
  {
   "cell_type": "code",
   "execution_count": 58,
   "id": "457b341e-8b97-4720-aec3-c603223e813d",
   "metadata": {},
   "outputs": [
    {
     "name": "stdin",
     "output_type": "stream",
     "text": [
      "Nhập m, n: -123128 12\n"
     ]
    },
    {
     "name": "stdout",
     "output_type": "stream",
     "text": [
      "Result = -10261\n"
     ]
    }
   ],
   "source": [
    "# W3A4: Viêt chương trình chia một số m cho n, kết quả thu được làm tròn xuống\n",
    "import math\n",
    "\n",
    "try:\n",
    "    m, n = map(float, input(\"Nhập m, n:\").split())\n",
    "    if math.isclose(n,0):\n",
    "        print(\"Không thể chia cho 0\")\n",
    "    else:\n",
    "        res = math.floor(m / n)   # math.floor() là làm tròn xuống (theo chiều âm vô cùng)\n",
    "        print(f\"Result = {res}\")\n",
    "except ValueError:\n",
    "    print(\"Đầu vào không hợp lệ\")"
   ]
  },
  {
   "cell_type": "code",
   "execution_count": 63,
   "id": "7ec961c3-422d-4113-8290-42e64fd46817",
   "metadata": {},
   "outputs": [
    {
     "name": "stdin",
     "output_type": "stream",
     "text": [
      "Nhập m, n: 1231 3\n"
     ]
    },
    {
     "name": "stdout",
     "output_type": "stream",
     "text": [
      "Result = 411\n"
     ]
    }
   ],
   "source": [
    "# W3A5: Viêt chương trình chia một số m cho n, kết quả thu được làm tròn lên\n",
    "import math\n",
    "\n",
    "try:\n",
    "    m, n = map(float, input(\"Nhập m, n:\").split())\n",
    "    if math.isclose(n,0):\n",
    "        print(\"Không thể chia cho 0\")\n",
    "    else:\n",
    "        res = math.ceil(m / n)     # math.ceil() là hàm làm tròn lên (theo chiều dương vô cùng)\n",
    "        print(f\"Result = {res}\")\n",
    "except ValueError:\n",
    "    print(\"Đầu vào không hợp lệ\")"
   ]
  },
  {
   "cell_type": "code",
   "execution_count": 72,
   "id": "581d2484-4b5a-4fed-a028-aac46c2a1733",
   "metadata": {},
   "outputs": [
    {
     "name": "stdin",
     "output_type": "stream",
     "text": [
      " 123\n"
     ]
    },
    {
     "name": "stdout",
     "output_type": "stream",
     "text": [
      "Odd\n"
     ]
    }
   ],
   "source": [
    "# W3A6: Kiểm tra chẵn lẻ của số nguyên dương x\n",
    "\n",
    "try:\n",
    "    x = int(input(\"Nhập x =\"))\n",
    "    if x <= 0:\n",
    "        print(\"Nhập số nguyên dương\")\n",
    "    else:\n",
    "        if x & 1 == 0:\n",
    "            print('Even')\n",
    "        else:\n",
    "            print('Odd')\n",
    "except ValueError:\n",
    "    print(\"Đầu vào không hợp lệ\")\n"
   ]
  },
  {
   "cell_type": "code",
   "execution_count": 81,
   "id": "5d52965f-c813-4fbd-82af-21b935cefa83",
   "metadata": {},
   "outputs": [
    {
     "name": "stdin",
     "output_type": "stream",
     "text": [
      "Nhập hai số a, b: 2 3\n"
     ]
    },
    {
     "name": "stdout",
     "output_type": "stream",
     "text": [
      "No\n"
     ]
    }
   ],
   "source": [
    "# W3A7: Kiểm tra số âm\n",
    "\n",
    "try:\n",
    "    a, b = map(int, input(\"Nhập hai số a, b:\").split())\n",
    "    if (a < 0) and (b < 0):\n",
    "        print('Yes')\n",
    "    else:\n",
    "        print('No')\n",
    "except ValueError:\n",
    "    print(\"Đầu vào không hợp lệ\")"
   ]
  },
  {
   "cell_type": "code",
   "execution_count": 92,
   "id": "a1d50046-93fa-4c9a-966a-264a07bb4e94",
   "metadata": {},
   "outputs": [
    {
     "name": "stdin",
     "output_type": "stream",
     "text": [
      "Nhập chuỗi a, b: tyui yuiok\n"
     ]
    },
    {
     "name": "stdout",
     "output_type": "stream",
     "text": [
      "False\n"
     ]
    }
   ],
   "source": [
    "# W3A8: So sánh chuỗi\n",
    "\n",
    "def loweralpha(s):\n",
    "    return s.isalpha() and s.islower()\n",
    "\n",
    "try:\n",
    "    a, b = input(\"Nhập chuỗi a, b:\").split()\n",
    "    if loweralpha(a) and loweralpha(b):\n",
    "        if len(a) > len(b):\n",
    "            print(\"True\")\n",
    "        else:\n",
    "            print(\"False\")\n",
    "    else:\n",
    "        print(\"Nhập sai! Chuỗi chỉ bao gồm các chữ cái in thường\")\n",
    "except ValueError:\n",
    "    print(\"Đầu vào không hợp lệ\")"
   ]
  },
  {
   "cell_type": "code",
   "execution_count": 100,
   "id": "c5eee13a-851a-42f5-b464-cd8b168c7a65",
   "metadata": {},
   "outputs": [
    {
     "name": "stdin",
     "output_type": "stream",
     "text": [
      "Nhập độ dài ba cạnh 2 3 4\n"
     ]
    },
    {
     "name": "stdout",
     "output_type": "stream",
     "text": [
      "Yes\n"
     ]
    }
   ],
   "source": [
    "# W3A9: Kiểm tra tam giác\n",
    "\n",
    "try:\n",
    "    a, b, c = map(int, input(\"Nhập độ dài ba cạnh\").split())\n",
    "    x,y,z = sorted([a,b,c])\n",
    "    if x <= 0:\n",
    "        print(\"Nhập số nguyên dương\")\n",
    "    else:\n",
    "        if x + y > z:\n",
    "            print(\"Yes\")\n",
    "        else: \n",
    "            print(\"No\")\n",
    "    \n",
    "except ValueError:\n",
    "    print(\"Đầu vào không hợp lệ\")"
   ]
  },
  {
   "cell_type": "code",
   "execution_count": 1,
   "id": "b617e273-a55f-477c-93f4-c3cbd1de7257",
   "metadata": {},
   "outputs": [
    {
     "name": "stdin",
     "output_type": "stream",
     "text": [
      "Nhập vào bốn số nguyên: 1 2 3 1\n"
     ]
    },
    {
     "name": "stdout",
     "output_type": "stream",
     "text": [
      "3\n"
     ]
    }
   ],
   "source": [
    "# W3A10: Largest Number\n",
    "\n",
    "try:\n",
    "    a, b, c, d = map(int, input(\"Nhập vào bốn số nguyên:\").split())\n",
    "    print(max(a,b,c,d))\n",
    "except ValueError:\n",
    "    print(\"Đầu vào không hợp lệ\")"
   ]
  },
  {
   "cell_type": "code",
   "execution_count": 7,
   "id": "d643bd5e-518a-470d-ba51-baa9dab35d6b",
   "metadata": {},
   "outputs": [
    {
     "name": "stdin",
     "output_type": "stream",
     "text": [
      "Nhập ba số nguyên dương: 3 4 5\n"
     ]
    },
    {
     "name": "stdout",
     "output_type": "stream",
     "text": [
      "Tam giác vuông\n"
     ]
    }
   ],
   "source": [
    "# W3A11: Phân loại tam giác\n",
    "\n",
    "try:\n",
    "    a, b, c = map(int,input(\"Nhập ba số nguyên dương:\").split())\n",
    "    x, y, z = sorted([a,b,c])\n",
    "    if x <= 0:\n",
    "        print(\"Nhập sai!! Chỉ nhập số nguyên dương\")\n",
    "    else:\n",
    "        if x + y > z:\n",
    "            if (x == y) and (y == z):\n",
    "                print(\"Tam giác đều\")\n",
    "            elif (x == y) or (y == z):\n",
    "                if x**2 + y**2 == z**2:\n",
    "                    print(\"Tam giác vuông cân\")\n",
    "                else:\n",
    "                    print(\"Tam giác cân\")\n",
    "            elif x**2 + y**2 == z**2:\n",
    "                print(\"Tam giác vuông\")\n",
    "            else:\n",
    "                print(\"Tam giác thường\")\n",
    "        else:\n",
    "            print(\"Không phải tam giác\")\n",
    "except ValueError:\n",
    "    print(\"Đầu vào không hợp lệ\")"
   ]
  },
  {
   "cell_type": "code",
   "execution_count": 10,
   "id": "3bba3898-3784-4933-8022-8285332a7089",
   "metadata": {},
   "outputs": [
    {
     "name": "stdin",
     "output_type": "stream",
     "text": [
      "Nhập năm: 2108\n"
     ]
    },
    {
     "name": "stdout",
     "output_type": "stream",
     "text": [
      "Yes\n"
     ]
    }
   ],
   "source": [
    "# W3A12: Kiểm tra năm nhuận\n",
    "\n",
    "try:\n",
    "    n = int(input(\"Nhập năm:\"))\n",
    "    if n <= 0:\n",
    "        print(\"Nhập số nguyên dương!!\")\n",
    "    else:\n",
    "        if (n % 400 == 0) or ((n % 4 == 0) and (n % 100 != 0)):\n",
    "            print(\"Yes\")\n",
    "        else:\n",
    "            print(\"No\")\n",
    "except: \n",
    "    print(\"Đầu vào không hợp lệ\")"
   ]
  },
  {
   "cell_type": "code",
   "execution_count": 21,
   "id": "b9abecc1-959b-4381-b49e-7778203fb051",
   "metadata": {},
   "outputs": [
    {
     "name": "stdin",
     "output_type": "stream",
     "text": [
      "Nhập a,b: 123 2\n"
     ]
    },
    {
     "name": "stdout",
     "output_type": "stream",
     "text": [
      "x = -0.02\n"
     ]
    }
   ],
   "source": [
    "# W3A14: Giải phương trình ax+b=0\n",
    "try:\n",
    "    a,b = map(float, input(\"Nhập a,b:\").split())\n",
    "    if a != 0:\n",
    "        print(f\"x = {-b/a:.2f}\")\n",
    "    else:\n",
    "        if b != 0:\n",
    "            print(\"Vô nghiệm\")\n",
    "        else:\n",
    "            print(\"Vô số nghiệm\")\n",
    "except ValueError:\n",
    "    print(\"Đầu vào không hợp lệ\")"
   ]
  },
  {
   "cell_type": "code",
   "execution_count": 1,
   "id": "03866525-aaa9-409d-94fb-bb7ea2a704fd",
   "metadata": {},
   "outputs": [
    {
     "name": "stdin",
     "output_type": "stream",
     "text": [
      "Nhập điểm: 4.5\n"
     ]
    },
    {
     "name": "stdout",
     "output_type": "stream",
     "text": [
      "Học lực: Yếu\n"
     ]
    }
   ],
   "source": [
    "# W3A15: Nhập điểm và xếp loại học lực của học sinh\n",
    "\n",
    "try:\n",
    "    score = float(input(\"Nhập điểm:\"))\n",
    "    ranks = ((5,\"Yếu\"), (6.5, \"Trung bình\"), (8, \"Khá\"), (float(\"inf\"), \"Giỏi\"))\n",
    "    if 0 <= score <= 10:\n",
    "        for mark, qty in ranks:\n",
    "            if score < mark:\n",
    "                print(f\"Học lực: {qty}\")\n",
    "                break\n",
    "    else:\n",
    "        print(\"Điểm phải thuộc [0;10] !!\")\n",
    "except ValueError:\n",
    "    print(\"Đầu vào không hợp lệ\")"
   ]
  },
  {
   "cell_type": "code",
   "execution_count": 56,
   "id": "c92d12ab-b88b-4a8d-9c2c-b86363f7e199",
   "metadata": {},
   "outputs": [
    {
     "name": "stdin",
     "output_type": "stream",
     "text": [
      " 12.3\n"
     ]
    },
    {
     "name": "stdout",
     "output_type": "stream",
     "text": [
      "Làm tròn lên: 13\n",
      "Làm tròn xuống: 12\n",
      "Làm tròn đến số nguyên gần nhất: 12\n"
     ]
    }
   ],
   "source": [
    "# W3A16: Viết hàm làm tròn lên, làm tròn xuống và làm tròn tới số nguyên gần nhất\n",
    "# Làm tròn XUỐNG: lấy số nguyên NHỎ hơn hoặc bằng số gốc\n",
    "# Làm tròn LÊN: lấy số nguyên LỚN hơn hoặc bằng số gốc\n",
    "# Làm tròn đến số nguyên GẦN NHẤT: Lấy số nguyên GẦN với số gốc nhất\n",
    "# - Nếu số nằm GIỮA thì làm tròn về SỐ CHẴN gần nhất\n",
    "\n",
    "\n",
    "import math\n",
    "\n",
    "def accomplish_down(n):\n",
    "    i = int(n)\n",
    "    return i if ((n >= 0) or (n == i)) else (i - 1)\n",
    "\n",
    "def accomplish_up(n):\n",
    "    i = int(n)\n",
    "    return i if ((n <= 0) or (n == i)) else (i + 1)\n",
    "\n",
    "def accomplish_intnearest(n):\n",
    "    if n >= 0:\n",
    "        deci = n - int(n)\n",
    "        if (deci < 0.5) or (deci == 0.5 and int(n) % 2 == 0):\n",
    "            return int(n)\n",
    "        elif deci > 0.5 or (deci == 0.5 and int(n) % 2 != 0):\n",
    "            return int(n)+1\n",
    "    else:\n",
    "        return -accomplish_intnearest(-n)\n",
    "try:\n",
    "    num = float(input())\n",
    "    print(f\"Làm tròn lên: {accomplish_up(num)}\")\n",
    "    print(f\"Làm tròn xuống: {accomplish_down(num)}\")\n",
    "    print(f\"Làm tròn đến số nguyên gần nhất: {accomplish_intnearest(num)}\")\n",
    "except ValueError:\n",
    "    print(\"Đầu vào không hợp lệ!\")"
   ]
  },
  {
   "cell_type": "code",
   "execution_count": 32,
   "id": "353fcce7-f370-40a2-8482-f75e1db19b09",
   "metadata": {},
   "outputs": [
    {
     "name": "stdin",
     "output_type": "stream",
     "text": [
      " 1 0 0 0\n"
     ]
    },
    {
     "name": "stdout",
     "output_type": "stream",
     "text": [
      "YES \t q = 0.0\n"
     ]
    }
   ],
   "source": [
    "# W3A17: Kiểm tra cấp số nhân\n",
    "\n",
    "# Cách này áp dụng cho dãy số dài\n",
    "\n",
    "import math\n",
    "\n",
    "try:\n",
    "    a, b, c, d = map(float, input().split())\n",
    "    seq = [a,b,c,d]\n",
    "    \n",
    "    # Nếu seq[0] == 0 thì ngầm đoán dãy là 0, 0, 0, 0\n",
    "    q = 0 if math.isclose(seq[0], 0) else seq[1]/seq[0]\n",
    "    ok = all(math.isclose(seq[i-1]*q, seq[i]) for i in range(1,len(seq)))\n",
    "    \n",
    "    # Nếu q = 0 và seq[0] -> Nếu là csn thì chắc chắn là dãy full 0 -> q ∈ R\n",
    "    # 1 0 0 0 vẫn là csn với q = 0 nhưng seq[0] != 0\n",
    "    if math.isclose(q,0) and math.isclose(seq[0], 0):\n",
    "        q = 'q ∈ R'\n",
    "    else: \n",
    "        q = f\"q = {q}\"\n",
    "    print(f\"YES \\t {q}\" if ok else 'NO')    \n",
    "except ValueError:\n",
    "    print(\"Đầu vào không hợp lệ\")"
   ]
  }
 ],
 "metadata": {
  "kernelspec": {
   "display_name": "Python 3 (ipykernel)",
   "language": "python",
   "name": "python3"
  },
  "language_info": {
   "codemirror_mode": {
    "name": "ipython",
    "version": 3
   },
   "file_extension": ".py",
   "mimetype": "text/x-python",
   "name": "python",
   "nbconvert_exporter": "python",
   "pygments_lexer": "ipython3",
   "version": "3.13.7"
  }
 },
 "nbformat": 4,
 "nbformat_minor": 5
}
