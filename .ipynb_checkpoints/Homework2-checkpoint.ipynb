{
 "cells": [
  {
   "cell_type": "code",
   "execution_count": 7,
   "id": "2f583447-02c4-45e8-97b7-5d86b41f017c",
   "metadata": {},
   "outputs": [
    {
     "name": "stdin",
     "output_type": "stream",
     "text": [
      " 2.344 3.445\n"
     ]
    },
    {
     "name": "stdout",
     "output_type": "stream",
     "text": [
      "Chu vi: 11.58 \n",
      "Diện tích: 8.08\n"
     ]
    }
   ],
   "source": [
    "# Exercise 1: Nhập vào 2 cạnh của một hình chữ nhật. In ra màn hình diện tích và chu vi của nó\n",
    "\n",
    "a, b = map(float, input().split())\n",
    "\n",
    "if (a > 0) and (b > 0):\n",
    "    print(f\"Chu vi: {(a+b)*2:.2f} \\nDiện tích: {a*b:.2f}\")\n",
    "else: \n",
    "    print(\"Độ dài hai cạnh của hình chữ nhật không hợp lệ\")"
   ]
  },
  {
   "cell_type": "code",
   "execution_count": 8,
   "id": "2b78bab0-7499-4563-ac40-d147405a008c",
   "metadata": {},
   "outputs": [
    {
     "name": "stdin",
     "output_type": "stream",
     "text": [
      " -123\n"
     ]
    },
    {
     "name": "stdout",
     "output_type": "stream",
     "text": [
      "Bán kính của hình tròn không hợp lệ\n"
     ]
    }
   ],
   "source": [
    "# Exercise 2: Nhập vào bán kính của hình tròn. In ra màn hình diện tích và chu vi của nó\n",
    "# import builtins\n",
    "# print(ord(builtins))\n",
    "# print(help(int))\n",
    "import math\n",
    "\n",
    "r = float(input())\n",
    "pi = math.pi\n",
    "\n",
    "if r > 0:\n",
    "    print(f\"Chu vi: {2*pi*r:.2f} \\nDiện tích: {pi*r**2:.2f}\")\n",
    "else:\n",
    "    print(\"Bán kính của hình tròn không hợp lệ\")"
   ]
  },
  {
   "cell_type": "code",
   "execution_count": 38,
   "id": "ee9fb020-408d-42c3-9d40-82642734178d",
   "metadata": {},
   "outputs": [
    {
     "name": "stdin",
     "output_type": "stream",
     "text": [
      " 4 5 3\n"
     ]
    },
    {
     "name": "stdout",
     "output_type": "stream",
     "text": [
      "Tam giác vuông\n",
      "Chu vi: 12.00 \n",
      "Diện tích: 6.00\n"
     ]
    }
   ],
   "source": [
    "# Exercise 3: \n",
    "# Nhâp vào ba số a,b,c bất kì. \n",
    "# Kiểm tra xem nó có thể là độ dài ba cạnh hay không.\n",
    "# Nếu không thì in ra màn hình 'Khong la ba canh cua mot tam giac'.\n",
    "# Ngược lại, kiểm tra xem nó là tam giác gì: Đều, Cân, Vuông, hay Tam giác thường. \n",
    "# Tính diện tích, chu vi của tam giác và in ra màn hình.\n",
    "\n",
    "import math\n",
    "\n",
    "sides = list(map(float, input().split()))\n",
    "a, b, c = sorted(sides)\n",
    "# sorted(list, reverse=True) Sắp xếp giảm dần\n",
    "if (a > 0) and (a + b > c):\n",
    "    p = (a + b + c) / 2\n",
    "    s = (p*(p-a)*(p-b)*(p-c))**(1/2)\n",
    "    \n",
    "    if math.isclose(a,b) and math.isclose(a,c):\n",
    "        print(\"Tam giác đều\")\n",
    "    elif math.isclose(c, b) or math.isclose(b, a):\n",
    "        if math.isclose(c**2, b**2 + a**2):\n",
    "            print(\"Tam giác vuông cân\")\n",
    "        else: print(\"Tam giác cân\")\n",
    "    elif math.isclose(c**2, b**2 + a**2):\n",
    "        print(\"Tam giác vuông\")\n",
    "    else:\n",
    "        print(\"Tam giác thường\")\n",
    "    print(f\"Chu vi: {2*p:.2f} \\nDiện tích: {s:.2f}\")\n",
    "else:\n",
    "    print(\"Khong la ba canh cua mot tam giac\")"
   ]
  },
  {
   "cell_type": "code",
   "execution_count": 51,
   "id": "5b42fd34-c8a9-4ea6-b599-d7791a235d78",
   "metadata": {},
   "outputs": [
    {
     "name": "stdin",
     "output_type": "stream",
     "text": [
      " 1 ư\n"
     ]
    },
    {
     "name": "stdout",
     "output_type": "stream",
     "text": [
      "Nhập đúng số và chỉ nhập hai số\n"
     ]
    }
   ],
   "source": [
    "# Exercise 4: Giải phương trình bậc nhất ax + b = 0\n",
    "try:\n",
    "    a, b = map(float, input().split())\n",
    "    if a != 0:\n",
    "        x = -b/a\n",
    "        print(f\"Nghiệm của phương trình: x = {x:.2f}\")\n",
    "    else:\n",
    "        if b != 0:\n",
    "            print(\"Phương trình vô nghiệm\")\n",
    "        else:\n",
    "            print(\"Phương trình vô số nghiệm\")\n",
    "except ValueError:\n",
    "    print(\"Nhập đúng số và chỉ nhập hai số\")"
   ]
  },
  {
   "cell_type": "code",
   "execution_count": 47,
   "id": "ea9023a5-9047-4e11-a7fb-a8f23825c5a9",
   "metadata": {},
   "outputs": [
    {
     "name": "stdin",
     "output_type": "stream",
     "text": [
      " 123 12931 12\n"
     ]
    },
    {
     "name": "stdout",
     "output_type": "stream",
     "text": [
      "Phương trình có hai nghiệm\n",
      "x1 = -0.0009+0j\n",
      "x2 = -105.1292+0j\n"
     ]
    }
   ],
   "source": [
    "# Exercise 5: Giải phương trình bậc hai a^2 x + bx + c = 0\n",
    "\n",
    "import math, cmath\n",
    "#cmath là complex math\n",
    "\n",
    "# def format_complex(z):\n",
    "#     if math.isclose(z.imag,0) and math.isclose(z.real,0):\n",
    "#         return f\"{0:.4f}\"\n",
    "#     elif math.isclose(z.imag,0):\n",
    "#         return f\"{z.real:.4f}\"\n",
    "#     elif math.isclose(z.real,0):\n",
    "#         return f\"{z.imag:.4f}j\"\n",
    "#     else: \n",
    "#         sign = '+' if z.imag > 0 else '-'\n",
    "#         return f\"{z.real:.4f} {sign} {abs(z.imag):.4f}j\"\n",
    "\n",
    "def fmtcpl(z):\n",
    "    z_new = complex(round(z.real,4), round(z.imag,4))\n",
    "    z_new = str(z_new)\n",
    "    return z_new.replace(\"(\",\"\").replace(\")\",\"\")     # Bỏ '(' và ')'\n",
    "\n",
    "try:\n",
    "    a, b, c = map(float, input().split())\n",
    "except ValueError:\n",
    "    print(\"Đầu vào không hợp lệ\")\n",
    "else:\n",
    "    if a == 0:\n",
    "        if b != 0:\n",
    "            x = -c/b\n",
    "            print(f\"Nghiệm của phương trình: x = {x:.4f}\")\n",
    "        else:\n",
    "            if c != 0:\n",
    "                print(\"Phương trình vô nghiệm\")\n",
    "            else:\n",
    "                print(\"Phương trình vô số nghiệm\")\n",
    "    else: \n",
    "        delta = b**2 - 4*a*c\n",
    "        s_delta = cmath.sqrt(delta)\n",
    "        \n",
    "        if math.isclose(delta, 0):\n",
    "            x = -b / (2*a)\n",
    "            print(\"Phương trình có nghiệm kép\")\n",
    "            print(\"x1 = x2 =\", fmtcpl(x))\n",
    "        else:\n",
    "            x1 = (-b + s_delta) / (2*a)\n",
    "            x2 = (-b - s_delta) / (2*a)\n",
    "            print(\"Phương trình có hai nghiệm\")\n",
    "            print(\"x1 =\",fmtcpl(x1))\n",
    "            print(\"x2 =\",fmtcpl(x2))\n",
    "        "
   ]
  },
  {
   "cell_type": "code",
   "execution_count": 2,
   "id": "67f9f064-f644-4369-9ad1-9c1b70fb357e",
   "metadata": {},
   "outputs": [
    {
     "name": "stdin",
     "output_type": "stream",
     "text": [
      "Nhập 4 số a, b, c, d: 12 3 1\n"
     ]
    },
    {
     "name": "stdout",
     "output_type": "stream",
     "text": [
      "Nhập không hợp lệ!!!\n"
     ]
    }
   ],
   "source": [
    "# Exercise 6: : Tìm giá trị lớn nhất trong 4 số a, b, c, d (a, b, c, d được nhập từ bàn phím)\n",
    "try:\n",
    "    a, b, c, d = map(float, input(\"Nhập 4 số a, b, c, d:\").split())\n",
    "except ValueError:\n",
    "    print(\"Nhập không hợp lệ!!!\")\n",
    "else:\n",
    "    result = max(a,b,c,d)\n",
    "    print(f\"Số lớn nhất là: {result:g}\")"
   ]
  },
  {
   "cell_type": "code",
   "execution_count": 6,
   "id": "a3e137a7-6c23-468e-9c78-943350dd383c",
   "metadata": {},
   "outputs": [
    {
     "name": "stdin",
     "output_type": "stream",
     "text": [
      "Nhập 4 số a, b, c, d: 11 11 11 123\n"
     ]
    },
    {
     "name": "stdout",
     "output_type": "stream",
     "text": [
      "Số nhỏ nhất là: 11\n"
     ]
    }
   ],
   "source": [
    "# Exercise 7: : Tìm giá trị nhỏ nhất trong 4 số a, b, c, d (a, b, c, d được nhập từ bàn phím)\n",
    "try:\n",
    "    a, b, c, d = map(float, input(\"Nhập 4 số a, b, c, d:\").split())\n",
    "except ValueError:\n",
    "    print(\"Nhập không hợp lệ!!!\")\n",
    "else:\n",
    "    result = min(a,b,c,d)\n",
    "    print(f\"Số nhỏ nhất là: {result:g}\")"
   ]
  },
  {
   "cell_type": "code",
   "execution_count": 16,
   "id": "c64ad751-5925-443b-a4b8-683e239f86b2",
   "metadata": {},
   "outputs": [
    {
     "name": "stdout",
     "output_type": "stream",
     "text": [
      "Giải hệ phương trình tuyến tính\n",
      "ax + by = m\n",
      "cx + dy = n\n",
      "------------------------------\n"
     ]
    },
    {
     "name": "stdin",
     "output_type": "stream",
     "text": [
      "Nhập a, b, m : 2 3 7\n",
      "Nhập c, d, n : 4 -1 1\n"
     ]
    },
    {
     "name": "stdout",
     "output_type": "stream",
     "text": [
      "Hệ phương trình có nghiệm duy nhất\n",
      "x = 0.71\n",
      "y = 1.86\n"
     ]
    }
   ],
   "source": [
    "# Exercise 8: Giải hệ phương trình tuyến tính (2 phương trình, 2 ẩn)\n",
    "\n",
    "import math\n",
    "\n",
    "print(\"Giải hệ phương trình tuyến tính\")\n",
    "print(\"ax + by = m\")\n",
    "print(\"cx + dy = n\")\n",
    "print('-'*30)\n",
    "\n",
    "def nghiemtongquat(a,b,m):\n",
    "    if math.isclose(a,0): \n",
    "        if math.isclose(b,0):\n",
    "            return f\"Với mọi (x,y) đều là nghiệm là hệ\"\n",
    "        else:\n",
    "            return f\"Nghiệm của hệ có dạng (x,y) = (x,{m/b}) (Với mọi x)\"\n",
    "    else:\n",
    "        if math.isclose(b,0):\n",
    "            return f\"Nghiệm của hệ có dạng (x,y) = ({m/a},y) (Với mọi y)\"\n",
    "        else:\n",
    "            return f\"Nghiệm của hệ có dạng (x,y) = (t,{m/b}-{a/b}t) (Với mọi t)\"\n",
    "            \n",
    "try:\n",
    "    a, b, m = map(float, input(\"Nhập a, b, m :\").split())\n",
    "    c, d, n = map(float, input(\"Nhập c, d, n :\").split())\n",
    "except ValueError:\n",
    "    print(\"Nhập không hợp lệ\")\n",
    "else:\n",
    "    D = a*d - b*c\n",
    "    Dx = m*d - n*b\n",
    "    Dy = a*n - c*m\n",
    "    if not math.isclose(D, 0):\n",
    "        x = Dx/D\n",
    "        y = Dy/D\n",
    "        print(\"Hệ phương trình có nghiệm duy nhất\")\n",
    "        print(f\"x = {x:.2f}\")\n",
    "        print(f\"y = {y:.2f}\")\n",
    "    else:\n",
    "        if math.isclose(Dx,0) and math.isclose(Dy,0):\n",
    "            print(\"Hệ phương trình có vô số nghiệm\")\n",
    "            if not (math.isclose(a,0) and math.isclose(b,0)):\n",
    "                print(nghiemtongquat(a,b,m))\n",
    "            else:\n",
    "                print(nghiemtongquat(c,d,n))\n",
    "        else:\n",
    "            print(\"Hệ phương trình vô nghiệm\")\n"
   ]
  },
  {
   "cell_type": "code",
   "execution_count": 31,
   "id": "6e83fbbb-ef2a-472c-9f76-23e71a1c75a8",
   "metadata": {},
   "outputs": [
    {
     "name": "stdin",
     "output_type": "stream",
     "text": [
      "Nhập số giây: 1213231\n"
     ]
    },
    {
     "name": "stdout",
     "output_type": "stream",
     "text": [
      "337h 0m 31s\n"
     ]
    }
   ],
   "source": [
    "# Exercise 9: Đổi từ giây sang giờ phút giây\n",
    "try:\n",
    "    sec = int(input(\"Nhập số giây:\"))\n",
    "except ValueError:\n",
    "    print(\"Nhập không hợp lệ\")\n",
    "else:\n",
    "    if sec >= 0:\n",
    "        hrs = sec // 3600\n",
    "        mins = (sec % 3600) // 60\n",
    "        sec = sec % 60\n",
    "        print(f\"{hrs}h {mins}m {sec}s\")\n",
    "    else:\n",
    "        print(\"Nhập giá trị dương\")\n",
    "        "
   ]
  },
  {
   "cell_type": "code",
   "execution_count": 38,
   "id": "b4f6b075-a7ca-4f89-924f-10c4abc2d32c",
   "metadata": {},
   "outputs": [
    {
     "name": "stdin",
     "output_type": "stream",
     "text": [
      "Nhập tọa độ tâm I(a,b) = 2223 33\n",
      "Nhập bán kính R = 232\n",
      "Nhập tọa độ điểm A(x,y) = 1123 23\n"
     ]
    },
    {
     "name": "stdout",
     "output_type": "stream",
     "text": [
      "Điểm A nằm ngoài đường tròn\n"
     ]
    }
   ],
   "source": [
    "# Exercise 10: Nhập tâm và bán kính của một đường tròn. \n",
    "# Sau đó kiểm tra điểm A(x,y) có thuộc đường tròn không\n",
    "\n",
    "import math\n",
    "try:\n",
    "    a, b = map(float, input(\"Nhập tọa độ tâm I(a,b) =\").split())\n",
    "    r = float(input(\"Nhập bán kính R =\"))\n",
    "    x, y = map(float, input(\"Nhập tọa độ điểm A(x,y) =\").split())\n",
    "except ValueError:\n",
    "    print(\"Dữ liệu nhập không hợp lệ\")\n",
    "else:\n",
    "    if r > 0:\n",
    "        dis = (x-a)**2 + (y-b)**2\n",
    "        if math.isclose(dis, r**2):\n",
    "            print(\"Điểm A nằm trên đường tròn\")\n",
    "        elif dis < r**2:\n",
    "            print(\"Điểm A nằm trong đường tròn\")\n",
    "        else:\n",
    "            print(\"Điểm A nằm ngoài đường tròn\")\n",
    "    elif math.isclose(r,0):\n",
    "        if math.isclose(a,x) and math.isclose(b,y):\n",
    "            print(\"A trùng với tâm\")\n",
    "        else:\n",
    "            print(\"Đường tròn suy biến thành 1 điểm, A không trùng với tâm\")\n",
    "    else:\n",
    "        print(\"Không tồn tại đường tròn\")"
   ]
  },
  {
   "cell_type": "code",
   "execution_count": 35,
   "id": "ce7f951f-35cf-458b-9455-468193beeeef",
   "metadata": {},
   "outputs": [
    {
     "name": "stdin",
     "output_type": "stream",
     "text": [
      "Nhập x, y: -8 0.5\n"
     ]
    },
    {
     "name": "stdout",
     "output_type": "stream",
     "text": [
      "2.828427124746j\n"
     ]
    }
   ],
   "source": [
    "# Exercise 11: Tính x^y (x,y là số thực)\n",
    "\n",
    "import math, cmath\n",
    "\n",
    "try:\n",
    "    x, y = map(float, input(\"Nhập x, y:\").split())\n",
    "except ValueError:\n",
    "    print(\"Nhập không hợp lệ\")\n",
    "else:\n",
    "    if math.isclose(x,0) and math.isclose(y,0):\n",
    "        print(\"Không tồn tại\")\n",
    "    elif math.isclose(x,0) and y < 0:\n",
    "        print(\"Không tồn tại\")\n",
    "    else:\n",
    "        res = x**y\n",
    "        res = complex(round(res.real, 12), round(res.imag,12))\n",
    "        print(res)"
   ]
  }
 ],
 "metadata": {
  "kernelspec": {
   "display_name": "Python 3 (ipykernel)",
   "language": "python",
   "name": "python3"
  },
  "language_info": {
   "codemirror_mode": {
    "name": "ipython",
    "version": 3
   },
   "file_extension": ".py",
   "mimetype": "text/x-python",
   "name": "python",
   "nbconvert_exporter": "python",
   "pygments_lexer": "ipython3",
   "version": "3.13.7"
  }
 },
 "nbformat": 4,
 "nbformat_minor": 5
}
