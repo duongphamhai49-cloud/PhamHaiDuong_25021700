{
 "cells": [
  {
   "cell_type": "code",
   "execution_count": 5,
   "id": "4ad18f0d-1483-4eb6-b9c2-fef4bb07900b",
   "metadata": {},
   "outputs": [
    {
     "name": "stdin",
     "output_type": "stream",
     "text": [
      "Nhập a b: 1 2\n"
     ]
    },
    {
     "name": "stdout",
     "output_type": "stream",
     "text": [
      "Sử dụng XOR: 2 1\n",
      "Sử dụng toán tử: 2 1\n"
     ]
    }
   ],
   "source": [
    "# W3A2: \n",
    "# Hoán đổi hai số không sử dụng biến tạm thời\n",
    "# Sử dụng phép toán XOR trên bit để hoán đổi giá trị hai biến\n",
    "\n",
    "try:\n",
    "    a, b = map(int, input(\"Nhập a b:\").split())\n",
    "    a ^= b\n",
    "    b ^= a\n",
    "    a ^= b\n",
    "    print(\"Sử dụng XOR:\", a,  b)\n",
    "\n",
    "    # Nếu a, b là số thực thì dùng cách sau\n",
    "    a, b = b, a\n",
    "    \n",
    "    a = a + b\n",
    "    b = a - b\n",
    "    a = a - b\n",
    "    print(\"Sử dụng toán tử:\", a, b)\n",
    "except ValueError:\n",
    "    print(\"Đầu vào không hợp lệ\")"
   ]
  },
  {
   "cell_type": "code",
   "execution_count": 40,
   "id": "2e313551-85e3-4f1e-a040-ce91b88057e9",
   "metadata": {},
   "outputs": [
    {
     "name": "stdin",
     "output_type": "stream",
     "text": [
      "Nhập số cần kiểm tra: 9\n"
     ]
    },
    {
     "name": "stdout",
     "output_type": "stream",
     "text": [
      "------------------------------\n",
      "Dùng bitwise\n",
      "9 không phải lũy thừa của 2\n",
      "------------------------------\n",
      "Dùng logarith\n",
      "9 không phải lũy thừa của 2\n",
      "------------------------------\n",
      "Dùng while-loop\n",
      "9 không phải lũy thừa của 2\n"
     ]
    }
   ],
   "source": [
    "## W3A3: Kiểm tra một số có phải lũy thừa của 2 không\n",
    "\n",
    "import math\n",
    "\n",
    "try:\n",
    "    n = int(input(\"Nhập số cần kiểm tra:\"))\n",
    "    print('-' *30)\n",
    "    if n <= 0:\n",
    "        print(\"Nhập số nguyên dương\")\n",
    "    else:\n",
    "        print(\"Dùng bitwise\")     # Cách hiệu quả nhất\n",
    "        if n & (n-1) == 0:\n",
    "            pwr = n.bit_length()-1\n",
    "            print(f\"{n} là lũy thừa của 2 với số mũ {pwr}\")\n",
    "        else:\n",
    "            print(f\"{n} không phải lũy thừa của 2\")\n",
    "            \n",
    "        print('-' *30)\n",
    "        \n",
    "        print(\"Dùng logarith\")\n",
    "        pwr = math.log2(n)          # math.log luôn trả về số thực\n",
    "        if pwr.is_integer():         # isinstance() kiểm tra dữ liệu của biến\n",
    "            print(f\"{n} là lũy thừa của 2 với số mũ {pwr:g}\")\n",
    "        else:\n",
    "            print(f\"{n} không phải lũy thừa của 2\")\n",
    "\n",
    "        print('-' *30)\n",
    "        print(\"Dùng while-loop\")\n",
    "        temp = n\n",
    "        pwr = 0\n",
    "        while n % 2 == 0:\n",
    "            n //= 2\n",
    "            pwr += 1\n",
    "        if n == 1:\n",
    "            print(f\"{temp} là lũy thừa của 2 với số mũ {pwr}\")\n",
    "        else:\n",
    "            print(f\"{temp} không phải lũy thừa của 2\")\n",
    "except ValueError:\n",
    "    print(\"Đầu vào không hợp lệ\")"
   ]
  },
  {
   "cell_type": "code",
   "execution_count": 58,
   "id": "457b341e-8b97-4720-aec3-c603223e813d",
   "metadata": {},
   "outputs": [
    {
     "name": "stdin",
     "output_type": "stream",
     "text": [
      "Nhập m, n: -123128 12\n"
     ]
    },
    {
     "name": "stdout",
     "output_type": "stream",
     "text": [
      "Result = -10261\n"
     ]
    }
   ],
   "source": [
    "# W3A4: Viêt chương trình chia một số m cho n, kết quả thu được làm tròn xuống\n",
    "import math\n",
    "\n",
    "try:\n",
    "    m, n = map(float, input(\"Nhập m, n:\").split())\n",
    "    if math.isclose(n,0):\n",
    "        print(\"Không thể chia cho 0\")\n",
    "    else:\n",
    "        res = math.floor(m / n)   # math.floor() là làm tròn xuống (theo chiều âm vô cùng)\n",
    "        print(f\"Result = {res}\")\n",
    "except ValueError:\n",
    "    print(\"Đầu vào không hợp lệ\")"
   ]
  },
  {
   "cell_type": "code",
   "execution_count": 63,
   "id": "7ec961c3-422d-4113-8290-42e64fd46817",
   "metadata": {},
   "outputs": [
    {
     "name": "stdin",
     "output_type": "stream",
     "text": [
      "Nhập m, n: 1231 3\n"
     ]
    },
    {
     "name": "stdout",
     "output_type": "stream",
     "text": [
      "Result = 411\n"
     ]
    }
   ],
   "source": [
    "# W3A5: Viêt chương trình chia một số m cho n, kết quả thu được làm tròn lên\n",
    "import math\n",
    "\n",
    "try:\n",
    "    m, n = map(float, input(\"Nhập m, n:\").split())\n",
    "    if math.isclose(n,0):\n",
    "        print(\"Không thể chia cho 0\")\n",
    "    else:\n",
    "        res = math.ceil(m / n)     # math.ceil() là hàm làm tròn lên (theo chiều dương vô cùng)\n",
    "        print(f\"Result = {res}\")\n",
    "except ValueError:\n",
    "    print(\"Đầu vào không hợp lệ\")"
   ]
  },
  {
   "cell_type": "code",
   "execution_count": 72,
   "id": "581d2484-4b5a-4fed-a028-aac46c2a1733",
   "metadata": {},
   "outputs": [
    {
     "name": "stdin",
     "output_type": "stream",
     "text": [
      " 123\n"
     ]
    },
    {
     "name": "stdout",
     "output_type": "stream",
     "text": [
      "Odd\n"
     ]
    }
   ],
   "source": [
    "# W3A6: Kiểm tra chẵn lẻ của số nguyên dương x\n",
    "\n",
    "try:\n",
    "    x = int(input(\"Nhập x =\"))\n",
    "    if x <= 0:\n",
    "        print(\"Nhập số nguyên dương\")\n",
    "    else:\n",
    "        if x & 1 == 0:\n",
    "            print('Even')\n",
    "        else:\n",
    "            print('Odd')\n",
    "except ValueError:\n",
    "    print(\"Đầu vào không hợp lệ\")\n"
   ]
  },
  {
   "cell_type": "code",
   "execution_count": 81,
   "id": "5d52965f-c813-4fbd-82af-21b935cefa83",
   "metadata": {},
   "outputs": [
    {
     "name": "stdin",
     "output_type": "stream",
     "text": [
      "Nhập hai số a, b: 2 3\n"
     ]
    },
    {
     "name": "stdout",
     "output_type": "stream",
     "text": [
      "No\n"
     ]
    }
   ],
   "source": [
    "# W3A7: Kiểm tra số âm\n",
    "\n",
    "try:\n",
    "    a, b = map(int, input(\"Nhập hai số a, b:\").split())\n",
    "    if (a < 0) and (b < 0):\n",
    "        print('Yes')\n",
    "    else:\n",
    "        print('No')\n",
    "except ValueError:\n",
    "    print(\"Đầu vào không hợp lệ\")"
   ]
  },
  {
   "cell_type": "code",
   "execution_count": 92,
   "id": "a1d50046-93fa-4c9a-966a-264a07bb4e94",
   "metadata": {},
   "outputs": [
    {
     "name": "stdin",
     "output_type": "stream",
     "text": [
      "Nhập chuỗi a, b: tyui yuiok\n"
     ]
    },
    {
     "name": "stdout",
     "output_type": "stream",
     "text": [
      "False\n"
     ]
    }
   ],
   "source": [
    "# W3A8: So sánh chuỗi\n",
    "\n",
    "def loweralpha(s):\n",
    "    return s.isalpha() and s.islower()\n",
    "\n",
    "try:\n",
    "    a, b = input(\"Nhập chuỗi a, b:\").split()\n",
    "    if loweralpha(a) and loweralpha(b):\n",
    "        if len(a) > len(b):\n",
    "            print(\"True\")\n",
    "        else:\n",
    "            print(\"False\")\n",
    "    else:\n",
    "        print(\"Nhập sai! Chuỗi chỉ bao gồm các chữ cái in thường\")\n",
    "except ValueError:\n",
    "    print(\"Đầu vào không hợp lệ\")"
   ]
  },
  {
   "cell_type": "code",
   "execution_count": 100,
   "id": "c5eee13a-851a-42f5-b464-cd8b168c7a65",
   "metadata": {},
   "outputs": [
    {
     "name": "stdin",
     "output_type": "stream",
     "text": [
      "Nhập độ dài ba cạnh 2 3 4\n"
     ]
    },
    {
     "name": "stdout",
     "output_type": "stream",
     "text": [
      "Yes\n"
     ]
    }
   ],
   "source": [
    "# W3A9: Kiểm tra tam giác\n",
    "\n",
    "try:\n",
    "    a, b, c = map(int, input(\"Nhập độ dài ba cạnh\").split())\n",
    "    x,y,z = sorted([a,b,c])\n",
    "    if x <= 0:\n",
    "        print(\"Nhập số nguyên dương\")\n",
    "    else:\n",
    "        if x + y > z:\n",
    "            print(\"Yes\")\n",
    "        else: \n",
    "            print(\"No\")\n",
    "    \n",
    "except ValueError:\n",
    "    print(\"Đầu vào không hợp lệ\")"
   ]
  },
  {
   "cell_type": "code",
   "execution_count": 103,
   "id": "b617e273-a55f-477c-93f4-c3cbd1de7257",
   "metadata": {},
   "outputs": [
    {
     "name": "stdin",
     "output_type": "stream",
     "text": [
      "Nhập vào bốn số nguyên: 12 98 123 1\n"
     ]
    },
    {
     "name": "stdout",
     "output_type": "stream",
     "text": [
      "123\n"
     ]
    }
   ],
   "source": [
    "# W3A10: Largest Number\n",
    "\n",
    "try:\n",
    "    a, b, c, d = map(int, input(\"Nhập vào bốn số nguyên:\").split())\n",
    "    print(max(a,b,c,d))\n",
    "except ValueError:\n",
    "    print(\"Đầu vào không hợp lệ\")"
   ]
  }
 ],
 "metadata": {
  "kernelspec": {
   "display_name": "Python 3 (ipykernel)",
   "language": "python",
   "name": "python3"
  },
  "language_info": {
   "codemirror_mode": {
    "name": "ipython",
    "version": 3
   },
   "file_extension": ".py",
   "mimetype": "text/x-python",
   "name": "python",
   "nbconvert_exporter": "python",
   "pygments_lexer": "ipython3",
   "version": "3.13.7"
  }
 },
 "nbformat": 4,
 "nbformat_minor": 5
}
