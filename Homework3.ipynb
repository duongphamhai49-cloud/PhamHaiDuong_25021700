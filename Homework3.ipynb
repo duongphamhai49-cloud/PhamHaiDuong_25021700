{
 "cells": [
  {
   "cell_type": "code",
   "execution_count": 3,
   "id": "a542e1d2-46d2-46c8-9673-7b6a12fe1f6e",
   "metadata": {},
   "outputs": [
    {
     "name": "stdout",
     "output_type": "stream",
     "text": [
      "1 3 5 7 9 11 13 15 17 19 21 23 25 27 29 31 33 35 37 39 41 43 45 47 49 51 53 55 57 59 61 63 65 67 69 71 73 75 77 79 81 83 85 87 89 91 93 95 97 99 "
     ]
    }
   ],
   "source": [
    "# Exercise 1: In các số dương lẻ bé hơn 100\n",
    "\n",
    "for i in range(1, 100, 2):\n",
    "    print(i, end=\" \")"
   ]
  },
  {
   "cell_type": "code",
   "execution_count": 8,
   "id": "bea72d3e-8220-48a9-9f3b-cbb4792f0852",
   "metadata": {},
   "outputs": [
    {
     "name": "stdout",
     "output_type": "stream",
     "text": [
      "6 12 18 24 30 36 42 48 54 60 66 72 78 84 90 96 \n",
      "6 12 18 24 30 36 42 48 54 60 66 72 78 84 90 96 "
     ]
    }
   ],
   "source": [
    "# Exercise 2: In các số dương chẵn chia hết cho 3 bé hơn 100 (Số dương chia hết cho 6 nhỏ hơn 100)\n",
    "\n",
    "for i in range(6, 97, 6):\n",
    "    print(i, end=\" \")"
   ]
  },
  {
   "cell_type": "code",
   "execution_count": 18,
   "id": "a984990c-1af7-4588-b858-a6738a6fce30",
   "metadata": {},
   "outputs": [
    {
     "name": "stdin",
     "output_type": "stream",
     "text": [
      "Nhập a = 7\n"
     ]
    },
    {
     "name": "stdout",
     "output_type": "stream",
     "text": [
      "Bảng nhân 7\n",
      "7 x 1 = 7\n",
      "7 x 2 = 14\n",
      "7 x 3 = 21\n",
      "7 x 4 = 28\n",
      "7 x 5 = 35\n",
      "7 x 6 = 42\n",
      "7 x 7 = 49\n",
      "7 x 8 = 56\n",
      "7 x 9 = 63\n",
      "7 x 10 = 70\n"
     ]
    }
   ],
   "source": [
    "# Exercise 3: Hiển thị bảng nhân a\n",
    "\n",
    "try:\n",
    "    a = int(input(\"Nhập a =\"))\n",
    "    if a > 0:\n",
    "        print(f\"Bảng nhân {a}\")\n",
    "        for i in range(1,11):\n",
    "            print(f\"{a} x {i} = {a*i}\")\n",
    "    else:\n",
    "        print(\"a là số nguyên dương\")\n",
    "except ValueError:\n",
    "    print(\"Đầu vào không hợp lệ\")"
   ]
  },
  {
   "cell_type": "code",
   "execution_count": 55,
   "id": "c7fb6ba3-0030-462c-94b3-8359fdb596c2",
   "metadata": {},
   "outputs": [
    {
     "name": "stdin",
     "output_type": "stream",
     "text": [
      "Nhập h = 8\n"
     ]
    },
    {
     "name": "stdout",
     "output_type": "stream",
     "text": [
      "       *       \n",
      "      * *      \n",
      "     *   *     \n",
      "    *     *    \n",
      "   *       *   \n",
      "  *         *  \n",
      " *           * \n",
      "***************\n"
     ]
    }
   ],
   "source": [
    "# Exercise 4: In ra tam giác cân có độ cao bằng h (h = 4)\n",
    "#    *\n",
    "#   * *\n",
    "#  *   *\n",
    "# *******\n",
    "\n",
    "try:\n",
    "    h = int(input(\"Nhập h =\"))     # > h = 4 > Chuỗi dài nhất có 2h-1 kí tự (số lẻ thứ h)\n",
    "    if h >= 2:\n",
    "        s_first = (' '*(h-1)) + ('*') + (' '*(h-1))\n",
    "        s_end = '*' * (2*h-1)\n",
    "        print(s_first)\n",
    "        for i in range(1, h-1):\n",
    "            space_mid = '*' + ' '*(2*i-1) + '*'\n",
    "            space_sides = ' '*(h-i-1)\n",
    "            s_mid = space_sides + space_mid + space_sides\n",
    "            print(s_mid)\n",
    "        print(s_end)\n",
    "    else:\n",
    "        print(\"h phải lớn hơn hoặc bằng 2\")\n",
    "except ValueError:\n",
    "    print(\"Đầu vào không hợp lệ\")\n"
   ]
  },
  {
   "cell_type": "code",
   "execution_count": 68,
   "id": "8e485fdf-a490-4111-bc0b-13b180de3974",
   "metadata": {},
   "outputs": [
    {
     "name": "stdin",
     "output_type": "stream",
     "text": [
      " 123\n"
     ]
    },
    {
     "name": "stdout",
     "output_type": "stream",
     "text": [
      "7626\n"
     ]
    }
   ],
   "source": [
    "# Exercise 5: Tính tổng n số nguyên dương đầu tiên\n",
    "\n",
    "try:\n",
    "    n = int(input())\n",
    "    if n >= 1:\n",
    "        sumN = (n*(n+1))/2\n",
    "        print(f\"{sumN:g}\")\n",
    "    else:\n",
    "        print(\"n là số nguyên dương!!\")\n",
    "except ValueError:\n",
    "    print(\"Đầu vào không hợp lệ\")\n"
   ]
  },
  {
   "cell_type": "code",
   "execution_count": 75,
   "id": "be65e160-522e-44e2-9ad8-9d7308297d75",
   "metadata": {},
   "outputs": [
    {
     "name": "stdin",
     "output_type": "stream",
     "text": [
      " 360\n"
     ]
    },
    {
     "name": "stdout",
     "output_type": "stream",
     "text": [
      "1 360 2 180 3 120 4 90 5 72 6 60 8 45 9 40 10 36 12 30 15 24 18 20 "
     ]
    }
   ],
   "source": [
    "# Exercise 6: In ra các ước dương của a\n",
    "\n",
    "try:\n",
    "    a = int(input())\n",
    "    if a > 0:\n",
    "        for i in range(1, int(a**(1/2))+1):\n",
    "            if a % i == 0:\n",
    "                print(i, end=' ')\n",
    "                if a // i != i:\n",
    "                    print(a // i, end=' ')\n",
    "    else:\n",
    "        print(\"a là số nguyên dương\")\n",
    "except ValueError:\n",
    "    print(\"Đầu vào không hợp lệ\")"
   ]
  },
  {
   "cell_type": "code",
   "execution_count": 79,
   "id": "90b58b43-ffbf-4530-add1-8d429c319c6c",
   "metadata": {},
   "outputs": [
    {
     "name": "stdin",
     "output_type": "stream",
     "text": [
      " 360\n"
     ]
    },
    {
     "name": "stdout",
     "output_type": "stream",
     "text": [
      "24\n"
     ]
    }
   ],
   "source": [
    "# Exercise 7: Đếm ước dương của a\n",
    "\n",
    "try:\n",
    "    a = int(input())\n",
    "    count = 0\n",
    "    if a > 0:\n",
    "        for i in range(1, int(a**(1/2))+1):\n",
    "            if a % i == 0:\n",
    "                count += 1\n",
    "                if a // i != i:\n",
    "                    count += 1\n",
    "        print(count)\n",
    "    else:\n",
    "        print(\"a là số nguyên dương\")\n",
    "except ValueError:\n",
    "    print(\"Đầu vào không hợp lệ\")"
   ]
  },
  {
   "cell_type": "code",
   "execution_count": 89,
   "id": "cfad8c9b-d32d-4ceb-8673-bc900a51e95d",
   "metadata": {},
   "outputs": [
    {
     "name": "stdin",
     "output_type": "stream",
     "text": [
      "Nhập a, b: 1230 1209\n"
     ]
    },
    {
     "name": "stdout",
     "output_type": "stream",
     "text": [
      "1 3 "
     ]
    }
   ],
   "source": [
    "# Exercise 8: In ra ước chung của a và b:\n",
    "\n",
    "try:\n",
    "    a, b = map(int, input(\"Nhập a, b:\").split())\n",
    "    if a <= 0 or b <= 0:\n",
    "        print(\"a, b nguyên dương !!!\")\n",
    "    else:\n",
    "        # Thuật toán Euclid:\n",
    "        # while b != 0:\n",
    "        #     a, b = b, a % b        >> UCLN = a\n",
    "        while a*b != 0:\n",
    "            if a > b:\n",
    "                a %= b\n",
    "            else:\n",
    "                b %= a\n",
    "        ucln = a+b\n",
    "        \n",
    "        for i in range(1, int(ucln**(1/2))+1):\n",
    "            if ucln % i == 0:\n",
    "                print(i, end=' ')\n",
    "                if ucln // i != i:\n",
    "                    print(ucln // i, end=' ')\n",
    "except ValueError:\n",
    "    print(\"Đầu vào không hợp lệ\")"
   ]
  },
  {
   "cell_type": "code",
   "execution_count": 102,
   "id": "0c9b4b3d-6ba5-4865-9865-e32a4e6adf04",
   "metadata": {},
   "outputs": [
    {
     "name": "stdin",
     "output_type": "stream",
     "text": [
      "Nhập a = 36\n"
     ]
    },
    {
     "name": "stdout",
     "output_type": "stream",
     "text": [
      "True\n"
     ]
    }
   ],
   "source": [
    "# Exercise 9: Kiểm tra số chính phương:\n",
    "\n",
    "try:\n",
    "    a = int(input(\"Nhập a =\"))\n",
    "    if a >= 0 and int(a**(0.5))**2 == a:\n",
    "        print(True)\n",
    "    else:\n",
    "        print(False)\n",
    "except ValueError:\n",
    "    print(\"Đầu vào không hợp lệ\")"
   ]
  },
  {
   "cell_type": "code",
   "execution_count": 97,
   "id": "553aa979-6f97-4680-a8a2-4b9775a25878",
   "metadata": {},
   "outputs": [
    {
     "name": "stdin",
     "output_type": "stream",
     "text": [
      "Nhập a = 2305843008139952128\n"
     ]
    },
    {
     "name": "stdout",
     "output_type": "stream",
     "text": [
      "True\n"
     ]
    }
   ],
   "source": [
    "# Exercise 10: Kiểm tra số hoàn hảo (tổng ước (ước nhỏ hơn nó) bằng chính nỏ)\n",
    "\n",
    "import math\n",
    "\n",
    "def is_prime(n):\n",
    "    for i in range(2, math.isqrt(n) + 1):\n",
    "        if n % i == 0:\n",
    "            return False\n",
    "    return True\n",
    "    \n",
    "try:\n",
    "    a = int(input(\"Nhập a =\"))\n",
    "    if a >= 2:\n",
    "        # Nếu p là số nguyên tố và 2^p - 1 cũng là số nguyên tố\n",
    "        # thì 2^(p-1) * (2^p - 1) là số hoàn hảo\n",
    "        tmp = 0\n",
    "        p = 2\n",
    "        while tmp < a:\n",
    "            if is_prime(p) and is_prime(2**p - 1):\n",
    "                tmp = (2**p - 1) * (2**(p-1))\n",
    "            p += 1\n",
    "        if tmp == a:\n",
    "            print(True)\n",
    "        else: \n",
    "            print(False)\n",
    "        \n",
    "except ValueError:\n",
    "    print(\"Đầu vào không hợp lệ !!!\")"
   ]
  },
  {
   "cell_type": "code",
   "execution_count": 118,
   "id": "fb944334-47be-4f79-a0b1-3a013bc354f9",
   "metadata": {},
   "outputs": [
    {
     "name": "stdin",
     "output_type": "stream",
     "text": [
      "Nhập a nguyên dương: 12\n"
     ]
    },
    {
     "name": "stdout",
     "output_type": "stream",
     "text": [
      "Bạn nhập đúng quy tắc\n"
     ]
    }
   ],
   "source": [
    "# Exercise 11: Nhập đến khi a dương\n",
    "\n",
    "a = -1\n",
    "while a <= 0:\n",
    "    try:\n",
    "        a = int(input('Nhập a nguyên dương:'))\n",
    "    except ValueError:\n",
    "        print(\"a là số nguyên !!\")\n",
    "print(\"Bạn nhập đúng quy tắc\")"
   ]
  },
  {
   "cell_type": "code",
   "execution_count": null,
   "id": "49cf9020-f253-4b84-b236-1c8a93e25e25",
   "metadata": {},
   "outputs": [],
   "source": [
    "# Exercise 12: Nhập số nguyên dương n, Cho S(k) = 1 + 2 + 3 + … + k.\n",
    "# Tìm k sao cho S(k) lớn nhất nhưng nhỏ hơn n\n",
    "\n",
    "try:\n",
    "    n = int(input(\"Nhập n nguyên dương:\"))\n",
    "    if n >= 1:\n",
    "        k = (-1 + (8*n+1)**(0.5))/2\n",
    "        if k.is_integer():\n",
    "            k = int(k) - 1\n",
    "        else:\n",
    "            k = int(k)\n",
    "        print('k =', k)\n",
    "    else:\n",
    "        print(\"n là nguyên dương !!\")\n",
    "except ValueError:\n",
    "    print(\"Đầu vào không hợp lệ\")"
   ]
  },
  {
   "cell_type": "code",
   "execution_count": 13,
   "id": "04ca7a04-4181-4ad3-8455-ae4f96859f11",
   "metadata": {},
   "outputs": [
    {
     "name": "stdin",
     "output_type": "stream",
     "text": [
      "Nhập A nguyên dương: 15\n"
     ]
    },
    {
     "name": "stdout",
     "output_type": "stream",
     "text": [
      "n = 1835421\n"
     ]
    }
   ],
   "source": [
    "# Exercise 13: Nhập số nguyên dương A, tìm n nhỏ nhất sao cho\n",
    "# 1/1 + 1/2 + ... + 1/n > A\n",
    "\n",
    "try:\n",
    "    A = int(input(\"Nhập A nguyên dương:\"))\n",
    "    if A > 0:\n",
    "        s = 0\n",
    "        n = 0\n",
    "        while s <= A:\n",
    "            n += 1\n",
    "            s += 1/n\n",
    "        print(f\"n = {n}\")\n",
    "    else:\n",
    "        print(\"!!! A nguyên dương\")\n",
    "except ValueError:\n",
    "    print(\"Đầu vào không hợp lệ\")"
   ]
  },
  {
   "cell_type": "code",
   "execution_count": 23,
   "id": "c0e2251d-7d81-4002-a7de-edc2197d68e5",
   "metadata": {},
   "outputs": [
    {
     "name": "stdin",
     "output_type": "stream",
     "text": [
      " 12\n",
      " 34\n",
      " -1\n"
     ]
    },
    {
     "name": "stdout",
     "output_type": "stream",
     "text": [
      "Max = 34\tMin = 12\n"
     ]
    }
   ],
   "source": [
    "# Exercise 14: : Nhập vào một dãy số nguyên, dừng nhập khi người dùng nhập -1. \n",
    "# Sau khi nhập xong, in số lớn nhất, số nhỏ nhất trong những số vừa nhập. \n",
    "# KHÔNG ĐƯỢC dùng mảng\n",
    "\n",
    "flag = True\n",
    "while True:\n",
    "    try:\n",
    "        a = int(input())\n",
    "    except ValueError:\n",
    "        print(\"!! Nhập số nguyên\")\n",
    "        continue\n",
    "    if a == -1:\n",
    "        break\n",
    "    if flag:\n",
    "        maxnum = minnum = a\n",
    "        flag = False\n",
    "    else:\n",
    "        maxnum = max(maxnum, a)\n",
    "        minnum = min(minnum, a)\n",
    "if flag:\n",
    "    print(\"Không có số nào được nhập\")\n",
    "else:\n",
    "    print(f\"Max = {maxnum}\\tMin = {minnum}\")"
   ]
  },
  {
   "cell_type": "code",
   "execution_count": 36,
   "id": "a615a148-cd41-4ac1-89d6-68b174752016",
   "metadata": {},
   "outputs": [
    {
     "name": "stdin",
     "output_type": "stream",
     "text": [
      " 1239817231\n"
     ]
    },
    {
     "name": "stdout",
     "output_type": "stream",
     "text": [
      "=>> 1239817231 có 10 chữ số\n"
     ]
    }
   ],
   "source": [
    "# Exercise 15: Đếm số chữ số của n\n",
    "\n",
    "try:\n",
    "    n = int(input())\n",
    "    if n > 0:\n",
    "        print(f\"=>> {n} có {len(str(n))} chữ số\")\n",
    "    else:\n",
    "        print(\"!! Nhập n nguyên dương\")\n",
    "except ValueError:\n",
    "    print(\"Đầu vào không hợp lệ !!\")"
   ]
  },
  {
   "cell_type": "code",
   "execution_count": 41,
   "id": "3fc616cc-4a34-4839-9827-884a8936c857",
   "metadata": {},
   "outputs": [
    {
     "name": "stdin",
     "output_type": "stream",
     "text": [
      " 1928371398239\n"
     ]
    },
    {
     "name": "stdout",
     "output_type": "stream",
     "text": [
      "4 chữ số chẵn\n",
      "9 chữ số lẻ\n"
     ]
    }
   ],
   "source": [
    "# Exercise 16: Đếm chữ số chẵn, chữ số lẻ trong n (nguyên dương)\n",
    "\n",
    "try:\n",
    "    n = int(input())\n",
    "    if n > 0:\n",
    "        tmp = n\n",
    "        cEven = cOdd = 0\n",
    "        while tmp > 0:\n",
    "            i = tmp % 10\n",
    "            if i % 2 == 0:\n",
    "                cEven += 1\n",
    "            else:\n",
    "                cOdd += 1\n",
    "            tmp //= 10\n",
    "        print(f\"{cEven} chữ số chẵn\\n{cOdd} chữ số lẻ\")\n",
    "    else:\n",
    "        print(\"!! Nhập n nguyên dương\")\n",
    "except ValueError:\n",
    "    print(\"Đầu vào không hợp lệ !!\")"
   ]
  },
  {
   "cell_type": "code",
   "execution_count": 47,
   "id": "29ea1216-9fae-495f-8e67-19a0320cd611",
   "metadata": {},
   "outputs": [
    {
     "name": "stdin",
     "output_type": "stream",
     "text": [
      " 12978163\n"
     ]
    },
    {
     "name": "stdout",
     "output_type": "stream",
     "text": [
      "Tổng = 37\n"
     ]
    }
   ],
   "source": [
    "# Exercise 17: Tính tổng các chữ số của n (nguyên dương)\n",
    "\n",
    "try:\n",
    "    n = int(input())\n",
    "    if n > 0:\n",
    "        total = sum(int(x) for x in str(n))\n",
    "        print(f\"Tổng = {total}\")\n",
    "    else:\n",
    "        print(\"!! Nhập n nguyên dương\")\n",
    "except ValueError:\n",
    "    print(\"Đầu vào không hợp lệ !!\")"
   ]
  },
  {
   "cell_type": "code",
   "execution_count": 55,
   "id": "bd5cdf92-6e28-49b9-8e90-1688ad7dbdce",
   "metadata": {},
   "outputs": [
    {
     "name": "stdin",
     "output_type": "stream",
     "text": [
      " 81\n"
     ]
    },
    {
     "name": "stdout",
     "output_type": "stream",
     "text": [
      "True\tk = 4\n"
     ]
    }
   ],
   "source": [
    "# Exercise 18: Kiểm tra n có phải lũy thừa của 3 không\n",
    "\n",
    "import math\n",
    "\n",
    "try:\n",
    "    n = int(input())\n",
    "    if n > 0:\n",
    "        k = 0\n",
    "        while n % 3 == 0:\n",
    "            k += 1\n",
    "            n //= 3\n",
    "        if n == 1:\n",
    "            print(f\"True\\tk = {k}\")\n",
    "        else:\n",
    "            print('False')\n",
    "    else:\n",
    "        print(\"!! Nhập n nguyên dương\")\n",
    "except ValueError:\n",
    "    print(\"Đầu vào không hợp lệ !!\")"
   ]
  },
  {
   "cell_type": "code",
   "execution_count": 98,
   "id": "33365220-54ce-4a63-af9e-e1eb0d268569",
   "metadata": {},
   "outputs": [
    {
     "name": "stdin",
     "output_type": "stream",
     "text": [
      "Nhập A = 89\n"
     ]
    },
    {
     "name": "stdout",
     "output_type": "stream",
     "text": [
      "1 1 2 3 5 8 13 21 34 55 89 144 \n",
      "Số Fibonacci cần tìm: 89\n"
     ]
    }
   ],
   "source": [
    "# Exercise 19: Tìm số Fibonacci lớn nhất nhưng không vượt quá A (Fib <= A)\n",
    "\n",
    "try:\n",
    "    A = int(input(\"Nhập A =\"))\n",
    "    if A > 0:\n",
    "        fib1 = 0\n",
    "        fib2 = 1\n",
    "        fib = fib1 + fib2\n",
    "        print(fib2, fib, end=' ')\n",
    "        while fib <= A:\n",
    "            fib1, fib2 = fib2, fib\n",
    "            fib = fib1 + fib2\n",
    "            print(fib, end=' ')\n",
    "        print(f\"\\nSố Fibonacci cần tìm: {fib2}\")\n",
    "            \n",
    "    else:\n",
    "        print(\"!! Nhập A nguyên dương\")\n",
    "except ValueError:\n",
    "    print(\"Đầu vào không hợp lệ !!\")\n"
   ]
  },
  {
   "cell_type": "code",
   "execution_count": 80,
   "id": "630e6f48-6b97-44a7-b101-b6d07ad0d2cb",
   "metadata": {},
   "outputs": [
    {
     "name": "stdin",
     "output_type": "stream",
     "text": [
      " 1982731203181623\n"
     ]
    },
    {
     "name": "stdout",
     "output_type": "stream",
     "text": [
      "Có 7 chữ số nguyên tố\n"
     ]
    }
   ],
   "source": [
    "# Exercise 20: Đếm chữ số nguyên tố trong n\n",
    "\n",
    "try:\n",
    "    n = int(input())\n",
    "    if n > 0:\n",
    "        count = 0\n",
    "        for x in str(n):\n",
    "            if int(x) in [2,3,5,7]:\n",
    "                count += 1\n",
    "        print(f\"Có {count} chữ số nguyên tố\")\n",
    "    else:\n",
    "        print(\"!! Nhập n nguyên dương\")\n",
    "except ValueError:\n",
    "    print(\"Đầu vào không hợp lệ !!\")"
   ]
  }
 ],
 "metadata": {
  "kernelspec": {
   "display_name": "Python 3 (ipykernel)",
   "language": "python",
   "name": "python3"
  },
  "language_info": {
   "codemirror_mode": {
    "name": "ipython",
    "version": 3
   },
   "file_extension": ".py",
   "mimetype": "text/x-python",
   "name": "python",
   "nbconvert_exporter": "python",
   "pygments_lexer": "ipython3",
   "version": "3.13.7"
  }
 },
 "nbformat": 4,
 "nbformat_minor": 5
}
