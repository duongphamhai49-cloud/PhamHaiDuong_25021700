{
 "cells": [
  {
   "cell_type": "code",
   "execution_count": 1,
   "id": "2758929e-80ba-48bb-ad72-27620a7f8097",
   "metadata": {},
   "outputs": [
    {
     "name": "stdout",
     "output_type": "stream",
     "text": [
      "Hello World!\n"
     ]
    }
   ],
   "source": [
    "#W2A1\n",
    "\n",
    "print(\"Hello World!\")"
   ]
  },
  {
   "cell_type": "code",
   "execution_count": 9,
   "id": "051c7931-d8c4-4b08-87e4-bc4ec28cc897",
   "metadata": {},
   "outputs": [
    {
     "name": "stdin",
     "output_type": "stream",
     "text": [
      " PHẠM HẢI DƯƠNG\n"
     ]
    },
    {
     "name": "stdout",
     "output_type": "stream",
     "text": [
      "Xin chào bạn PHẠM HẢI DƯƠNG\n"
     ]
    }
   ],
   "source": [
    "#W2A2\n",
    "\n",
    "name = input()\n",
    "print(\"Xin chào bạn\", name)"
   ]
  },
  {
   "cell_type": "code",
   "execution_count": 12,
   "id": "785b3abf-c2fa-4ef0-a2e6-de7e11b394aa",
   "metadata": {},
   "outputs": [
    {
     "name": "stdin",
     "output_type": "stream",
     "text": [
      " 12 30\n"
     ]
    },
    {
     "name": "stdout",
     "output_type": "stream",
     "text": [
      "12 + 30 = 42\n",
      "12 - 30 = -18\n",
      "12 * 30 = 360\n",
      "12 // 30 = 0\n",
      "12 % 30 = 12\n",
      "12 / 30 = 0.40\n"
     ]
    }
   ],
   "source": [
    "#W2A3\n",
    "\n",
    "a, b = map(int, input().split()) #Nhập hai số trên một dòng\n",
    "print(f'{a} + {b} = {a+b}')\n",
    "print(f'{a} - {b} = {a-b}')\n",
    "print(f'{a} * {b} = {a*b}')\n",
    "print(f'{a} // {b} = {a//b}')\n",
    "print(f'{a} % {b} = {a%b}')\n",
    "print(f'{a} / {b} = {a/b:.2f}')"
   ]
  },
  {
   "cell_type": "code",
   "execution_count": 10,
   "id": "b97c46d5-b4f0-4972-af3b-686f89d037ca",
   "metadata": {},
   "outputs": [
    {
     "name": "stdin",
     "output_type": "stream",
     "text": [
      " 1 2 3 4 5 6\n"
     ]
    },
    {
     "name": "stdout",
     "output_type": "stream",
     "text": [
      "4.2\n"
     ]
    }
   ],
   "source": [
    "#W2A4\n",
    "\n",
    "a1, b1, c1, a2, b2, a3 = map(int, input().split())\n",
    "tb = ( (a1+b1+c1) + (a2+b2)*2 + (a3)*3 ) / 10\n",
    "print(f\"{tb:.1f}\")"
   ]
  },
  {
   "cell_type": "code",
   "execution_count": 16,
   "id": "808928e8-ce23-4b83-8ad3-307248f64ea5",
   "metadata": {},
   "outputs": [
    {
     "name": "stdin",
     "output_type": "stream",
     "text": [
      " 2 3\n"
     ]
    },
    {
     "name": "stdout",
     "output_type": "stream",
     "text": [
      "8\n"
     ]
    }
   ],
   "source": [
    "#W2A5\n",
    "\n",
    "a, b = map(int, input().split())\n",
    "print(a**b)"
   ]
  },
  {
   "cell_type": "code",
   "execution_count": 19,
   "id": "ac3c39ff-8179-4bd4-94bf-1c4d13ea6fd0",
   "metadata": {},
   "outputs": [
    {
     "name": "stdin",
     "output_type": "stream",
     "text": [
      " e\n"
     ]
    },
    {
     "name": "stdout",
     "output_type": "stream",
     "text": [
      "101\n",
      "E\n"
     ]
    }
   ],
   "source": [
    "#W2A6\n",
    "\n",
    "char = input()\n",
    "print(ord(char))\n",
    "print(chr(ord(char)-32))"
   ]
  },
  {
   "cell_type": "code",
   "execution_count": 23,
   "id": "91930267-8dae-4a48-9a49-22fde5240fd3",
   "metadata": {},
   "outputs": [
    {
     "name": "stdout",
     "output_type": "stream",
     "text": [
      "A = 512 \t B = 512\n"
     ]
    }
   ],
   "source": [
    "#W2A7\n",
    "\n",
    "A = ((13 ** 2) * 3) + 5\n",
    "B = 13**2*3 + 5\n",
    "print(f\"A = {A} \\t B = {B}\")\n",
    "#Thứ tự ưu tiên tính toán của Python là Lũy thừa - Nhân/Chia - Cộng/Trừ"
   ]
  },
  {
   "cell_type": "code",
   "execution_count": 25,
   "id": "f7346a80-6553-497e-a432-7964db9a3f67",
   "metadata": {},
   "outputs": [
    {
     "name": "stdin",
     "output_type": "stream",
     "text": [
      " 132\n"
     ]
    },
    {
     "name": "stdout",
     "output_type": "stream",
     "text": [
      "269.60\n"
     ]
    }
   ],
   "source": [
    "#W2A8\n",
    "\n",
    "C = float(input())\n",
    "F = (9/5)*C + 32\n",
    "print(f\"{F:.2f}\")"
   ]
  },
  {
   "cell_type": "code",
   "execution_count": 27,
   "id": "cb43d420-4ef7-4a4f-88e8-88d34d284dab",
   "metadata": {},
   "outputs": [
    {
     "name": "stdin",
     "output_type": "stream",
     "text": [
      " 1232\n"
     ]
    },
    {
     "name": "stdout",
     "output_type": "stream",
     "text": [
      "1734.80\n"
     ]
    }
   ],
   "source": [
    "#W2A9\n",
    "\n",
    "x = int(input())\n",
    "money = 1.4*x + 10\n",
    "print(f\"{money:.2f}\")"
   ]
  },
  {
   "cell_type": "code",
   "execution_count": 33,
   "id": "f9c1dfde-3605-45a9-88a3-15fb3e0875ca",
   "metadata": {},
   "outputs": [
    {
     "name": "stdin",
     "output_type": "stream",
     "text": [
      " Bob Alice Helen\n"
     ]
    },
    {
     "name": "stdout",
     "output_type": "stream",
     "text": [
      "Hello Helen, Alice and Bob.\n"
     ]
    }
   ],
   "source": [
    "#W2A10\n",
    "\n",
    "a, b, c = input().split()\n",
    "print(f\"Hello {c}, {b} and {a}.\")"
   ]
  },
  {
   "cell_type": "code",
   "execution_count": 35,
   "id": "7e21cbf5-b120-4272-b485-d09310d33fea",
   "metadata": {},
   "outputs": [
    {
     "name": "stdin",
     "output_type": "stream",
     "text": [
      " 1 2\n"
     ]
    },
    {
     "name": "stdout",
     "output_type": "stream",
     "text": [
      "3600 120\n"
     ]
    }
   ],
   "source": [
    "#W2A11\n",
    "h, m = map(int, input().split())\n",
    "print(h*3600, m*60)\n"
   ]
  },
  {
   "cell_type": "code",
   "execution_count": 38,
   "id": "d4644448-9c5b-416e-96c5-0ce1e473f802",
   "metadata": {},
   "outputs": [
    {
     "name": "stdin",
     "output_type": "stream",
     "text": [
      " 3\n"
     ]
    },
    {
     "name": "stdout",
     "output_type": "stream",
     "text": [
      "54\n"
     ]
    }
   ],
   "source": [
    "#W2A12\n",
    "\n",
    "n = int(input())\n",
    "print(n**2*6)"
   ]
  },
  {
   "cell_type": "code",
   "execution_count": 3,
   "id": "4f156edc-dbbf-4703-8680-6d3433efe2d1",
   "metadata": {},
   "outputs": [
    {
     "name": "stdin",
     "output_type": "stream",
     "text": [
      " 9827132719823 91827391827312\n"
     ]
    },
    {
     "name": "stdout",
     "output_type": "stream",
     "text": [
      "6\n"
     ]
    }
   ],
   "source": [
    "#W2A13\n",
    "\n",
    "a, b = map(int, input().split())\n",
    "print( (a%10)*(b%10) % 10 )"
   ]
  },
  {
   "cell_type": "code",
   "execution_count": 7,
   "id": "80c077af-22e5-4ae3-b8b9-61b702136b91",
   "metadata": {},
   "outputs": [
    {
     "name": "stdin",
     "output_type": "stream",
     "text": [
      " 14 15\n"
     ]
    },
    {
     "name": "stdout",
     "output_type": "stream",
     "text": [
      "a = 15.0 \t b = 14.0\n"
     ]
    }
   ],
   "source": [
    "#W2A14\n",
    "\n",
    "a, b = map(float, input().split())\n",
    "a = a + b\n",
    "b = a - b\n",
    "a = a - b\n",
    "print(f\"a = {a} \\t b = {b}\")"
   ]
  },
  {
   "cell_type": "code",
   "execution_count": 14,
   "id": "be4c5625-2fdd-4ccf-970a-267e0be370b3",
   "metadata": {},
   "outputs": [
    {
     "name": "stdin",
     "output_type": "stream",
     "text": [
      " 7\n"
     ]
    },
    {
     "name": "stdout",
     "output_type": "stream",
     "text": [
      "253\n"
     ]
    }
   ],
   "source": [
    "#W2A15\n",
    "\n",
    "n = int(input())\n",
    "star = 6*n*(n-1) + 1\n",
    "print(star)"
   ]
  },
  {
   "cell_type": "code",
   "execution_count": 19,
   "id": "382afe09-b9fc-4fca-96e2-680f83e13ac9",
   "metadata": {},
   "outputs": [
    {
     "name": "stdout",
     "output_type": "stream",
     "text": [
      "Spring\n",
      "Summer\n",
      "Autumn\n",
      "Winter\n"
     ]
    }
   ],
   "source": [
    "#W2A16\n",
    "\n",
    "print(\"Spring\", \"Summer\", \"Autumn\", \"Winter\", sep = \"\\n\")"
   ]
  },
  {
   "cell_type": "code",
   "execution_count": 20,
   "id": "62796ec5-cd1d-4fcd-b631-8856e3d3bac8",
   "metadata": {},
   "outputs": [
    {
     "name": "stdout",
     "output_type": "stream",
     "text": [
      "  *  \n",
      " *** \n",
      "*****\n"
     ]
    }
   ],
   "source": [
    "#W2A17\n",
    "\n",
    "print(\"  *  \")\n",
    "print(\" *** \")\n",
    "print(\"*****\")"
   ]
  },
  {
   "cell_type": "code",
   "execution_count": 21,
   "id": "7caa60ca-91cf-4287-bb78-3b41dfc744d5",
   "metadata": {},
   "outputs": [
    {
     "name": "stdout",
     "output_type": "stream",
     "text": [
      "### ##   ### ###\n",
      " #  # #   #   # \n",
      " #  #  #  #   # \n",
      " #  # #   #   # \n",
      " #  ##    #   # \n"
     ]
    }
   ],
   "source": [
    "#W2A18\n",
    "\n",
    "print(\"### ##   ### ###\")\n",
    "print(\" #  # #   #   # \")\n",
    "print(\" #  #  #  #   # \")\n",
    "print(\" #  # #   #   # \")\n",
    "print(\" #  ##    #   # \")\n"
   ]
  },
  {
   "cell_type": "code",
   "execution_count": 25,
   "id": "771de77c-384b-477a-95be-58ddaabb302d",
   "metadata": {},
   "outputs": [
    {
     "name": "stdout",
     "output_type": "stream",
     "text": [
      "Monday\n",
      "Tuesday\n",
      "Wednesday\n",
      "Thursday\n",
      "Friday\n",
      "Saturday\n",
      "Sunday\n"
     ]
    }
   ],
   "source": [
    "#W2A19\n",
    "\n",
    "print(\"Monday\", \"Tuesday\", \"Wednesday\", \"Thursday\", \"Friday\", \"Saturday\", \"Sunday\", sep = '\\n')"
   ]
  },
  {
   "cell_type": "code",
   "execution_count": 24,
   "id": "81c62d06-8dda-4493-9bb3-bd7e100653c1",
   "metadata": {},
   "outputs": [
    {
     "name": "stdout",
     "output_type": "stream",
     "text": [
      "January\n",
      "February\n",
      "March\n",
      "April\n",
      "May\n",
      "June\n",
      "July\n",
      "August\n",
      "September\n",
      "October\n",
      "November\n",
      "December\n"
     ]
    }
   ],
   "source": [
    "#W2A20\n",
    "\n",
    "print(\"January\", \"February\", \"March\", \"April\", \"May\", \"June\", sep = \"\\n\")\n",
    "print(\"July\", \"August\", \"September\", \"October\", \"November\", \"December\", sep = \"\\n\")"
   ]
  },
  {
   "cell_type": "code",
   "execution_count": 26,
   "id": "6b34e933-850b-4a8f-80e5-4a830742ab1f",
   "metadata": {},
   "outputs": [
    {
     "name": "stdout",
     "output_type": "stream",
     "text": [
      "Hello, world\n",
      "Hello, world\n",
      "Hello, world\n",
      "Hello, world\n",
      "Hello, world\n",
      "Hello, world\n",
      "Hello, world\n",
      "Hello, world\n",
      "Hello, world\n",
      "Hello, world\n"
     ]
    }
   ],
   "source": [
    "#W2A21\n",
    "\n",
    "for i in range(10):\n",
    "    print(\"Hello, world\")"
   ]
  }
 ],
 "metadata": {
  "kernelspec": {
   "display_name": "Python 3 (ipykernel)",
   "language": "python",
   "name": "python3"
  },
  "language_info": {
   "codemirror_mode": {
    "name": "ipython",
    "version": 3
   },
   "file_extension": ".py",
   "mimetype": "text/x-python",
   "name": "python",
   "nbconvert_exporter": "python",
   "pygments_lexer": "ipython3",
   "version": "3.13.7"
  }
 },
 "nbformat": 4,
 "nbformat_minor": 5
}
