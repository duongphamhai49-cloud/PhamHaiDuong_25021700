{
 "cells": [
  {
   "cell_type": "code",
   "execution_count": 7,
   "id": "2f583447-02c4-45e8-97b7-5d86b41f017c",
   "metadata": {},
   "outputs": [
    {
     "name": "stdin",
     "output_type": "stream",
     "text": [
      " 2.344 3.445\n"
     ]
    },
    {
     "name": "stdout",
     "output_type": "stream",
     "text": [
      "Chu vi: 11.58 \n",
      "Diện tích: 8.08\n"
     ]
    }
   ],
   "source": [
    "# Exercise 1: Nhập vào 2 cạnh của một hình chữ nhật. In ra màn hình diện tích và chu vi của nó\n",
    "\n",
    "a, b = map(float, input().split())\n",
    "\n",
    "if (a > 0) and (b > 0):\n",
    "    print(f\"Chu vi: {(a+b)*2:.2f} \\nDiện tích: {a*b:.2f}\")\n",
    "else: \n",
    "    print(\"Độ dài hai cạnh của hình chữ nhật không hợp lệ\")"
   ]
  },
  {
   "cell_type": "code",
   "execution_count": 8,
   "id": "2b78bab0-7499-4563-ac40-d147405a008c",
   "metadata": {},
   "outputs": [
    {
     "name": "stdin",
     "output_type": "stream",
     "text": [
      " -123\n"
     ]
    },
    {
     "name": "stdout",
     "output_type": "stream",
     "text": [
      "Bán kính của hình tròn không hợp lệ\n"
     ]
    }
   ],
   "source": [
    "# Exercise 2: Nhập vào bán kính của hình tròn. In ra màn hình diện tích và chu vi của nó\n",
    "# import builtins\n",
    "# print(ord(builtins))\n",
    "# print(help(int))\n",
    "import math\n",
    "\n",
    "r = float(input())\n",
    "pi = math.pi\n",
    "\n",
    "if r > 0:\n",
    "    print(f\"Chu vi: {2*pi*r:.2f} \\nDiện tích: {pi*r**2:.2f}\")\n",
    "else:\n",
    "    print(\"Bán kính của hình tròn không hợp lệ\")"
   ]
  },
  {
   "cell_type": "code",
   "execution_count": 38,
   "id": "ee9fb020-408d-42c3-9d40-82642734178d",
   "metadata": {},
   "outputs": [
    {
     "name": "stdin",
     "output_type": "stream",
     "text": [
      " 4 5 3\n"
     ]
    },
    {
     "name": "stdout",
     "output_type": "stream",
     "text": [
      "Tam giác vuông\n",
      "Chu vi: 12.00 \n",
      "Diện tích: 6.00\n"
     ]
    }
   ],
   "source": [
    "# Exercise 3: \n",
    "# Nhâp vào ba số a,b,c bất kì. \n",
    "# Kiểm tra xem nó có thể là độ dài ba cạnh hay không.\n",
    "# Nếu không thì in ra màn hình 'Khong la ba canh cua mot tam giac'.\n",
    "# Ngược lại, kiểm tra xem nó là tam giác gì: Đều, Cân, Vuông, hay Tam giác thường. \n",
    "# Tính diện tích, chu vi của tam giác và in ra màn hình.\n",
    "\n",
    "import math\n",
    "\n",
    "sides = list(map(float, input().split()))\n",
    "a, b, c = sorted(sides)\n",
    "# sorted(list, reverse=True) Sắp xếp giảm dần\n",
    "if (a > 0) and (a + b > c):\n",
    "    p = (a + b + c) / 2\n",
    "    s = (p*(p-a)*(p-b)*(p-c))**(1/2)\n",
    "    \n",
    "    if math.isclose(a,b) and math.isclose(a,c):\n",
    "        print(\"Tam giác đều\")\n",
    "    elif math.isclose(c, b) or math.isclose(b, a):\n",
    "        if math.isclose(c**2, b**2 + a**2):\n",
    "            print(\"Tam giác vuông cân\")\n",
    "        else: print(\"Tam giác cân\")\n",
    "    elif math.isclose(c**2, b**2 + a**2):\n",
    "        print(\"Tam giác vuông\")\n",
    "    else:\n",
    "        print(\"Tam giác thường\")\n",
    "    print(f\"Chu vi: {2*p:.2f} \\nDiện tích: {s:.2f}\")\n",
    "else:\n",
    "    print(\"Khong la ba canh cua mot tam giac\")"
   ]
  },
  {
   "cell_type": "code",
   "execution_count": 51,
   "id": "5b42fd34-c8a9-4ea6-b599-d7791a235d78",
   "metadata": {},
   "outputs": [
    {
     "name": "stdin",
     "output_type": "stream",
     "text": [
      " 1 ư\n"
     ]
    },
    {
     "name": "stdout",
     "output_type": "stream",
     "text": [
      "Nhập đúng số và chỉ nhập hai số\n"
     ]
    }
   ],
   "source": [
    "# Exercise 4: Giải phương trình bậc nhất ax + b = 0\n",
    "try:\n",
    "    a, b = map(float, input().split())\n",
    "    if a != 0:\n",
    "        x = -b/a\n",
    "        print(f\"Nghiệm của phương trình: x = {x:.2f}\")\n",
    "    else:\n",
    "        if b != 0:\n",
    "            print(\"Phương trình vô nghiệm\")\n",
    "        else:\n",
    "            print(\"Phương trình vô số nghiệm\")\n",
    "except ValueError:\n",
    "    print(\"Nhập đúng số và chỉ nhập hai số\")"
   ]
  },
  {
   "cell_type": "code",
   "execution_count": 60,
   "id": "ea9023a5-9047-4e11-a7fb-a8f23825c5a9",
   "metadata": {},
   "outputs": [
    {
     "name": "stdin",
     "output_type": "stream",
     "text": [
      " 5 6 7\n"
     ]
    },
    {
     "name": "stdout",
     "output_type": "stream",
     "text": [
      "Phương trình vô nghiệm\n"
     ]
    }
   ],
   "source": [
    "# Exercise 5: Giải phương trình bậc hai a^2 x + bx + c = 0\n",
    "\n",
    "import math\n",
    "try:\n",
    "    a, b, c = map(float, input().split())\n",
    "except ValueError:\n",
    "    print(\"Đầu vào không hợp lệ\")\n",
    "else:\n",
    "    if a == 0:\n",
    "        if b != 0:\n",
    "            x = -c/b\n",
    "            print(f\"Nghiệm của phương trình: x = {x:.2f}\")\n",
    "        else:\n",
    "            if c != 0:\n",
    "                print(\"Phương trình vô nghiệm\")\n",
    "            else:\n",
    "                print(\"Phương trình vô số nghiệm\")\n",
    "    else: \n",
    "        delta = b**2 - 4*a*c\n",
    "        if delta < 0:\n",
    "            print(\"Phương trình vô nghiệm\")\n",
    "        elif math.isclose(delta, 0):\n",
    "            print(f\"Phương trình có nghiệm duy nhất: {-b/(2*a):.4f}\")\n",
    "        else:\n",
    "            s_delta = delta ** (1/2)\n",
    "            x1 = (-b + s_delta) / (2*a)\n",
    "            x2 = (-b - s_delta) / (2*a)\n",
    "            print(\"Phương trình có hai nghiệm\")\n",
    "            print(f\"x1 = {x1:.4f} \\nx2 = {x2:.4f}\")\n",
    "        "
   ]
  },
  {
   "cell_type": "code",
   "execution_count": null,
   "id": "67f9f064-f644-4369-9ad1-9c1b70fb357e",
   "metadata": {},
   "outputs": [],
   "source": []
  }
 ],
 "metadata": {
  "kernelspec": {
   "display_name": "Python 3 (ipykernel)",
   "language": "python",
   "name": "python3"
  },
  "language_info": {
   "codemirror_mode": {
    "name": "ipython",
    "version": 3
   },
   "file_extension": ".py",
   "mimetype": "text/x-python",
   "name": "python",
   "nbconvert_exporter": "python",
   "pygments_lexer": "ipython3",
   "version": "3.13.7"
  }
 },
 "nbformat": 4,
 "nbformat_minor": 5
}
