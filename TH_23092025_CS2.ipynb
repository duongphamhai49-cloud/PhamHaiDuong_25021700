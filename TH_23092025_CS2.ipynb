{
 "cells": [
  {
   "cell_type": "code",
   "execution_count": 12,
   "id": "b06a15cc-64f4-4e9c-aa76-c03f8a7fdaf7",
   "metadata": {},
   "outputs": [
    {
     "name": "stdin",
     "output_type": "stream",
     "text": [
      " 2 34 4\n"
     ]
    },
    {
     "name": "stdout",
     "output_type": "stream",
     "text": [
      "Not Triangle\n"
     ]
    }
   ],
   "source": [
    "# Kiểm tra a,b,c có phải ba cạnh của một tam giác không\n",
    "# Nếu có thì tính chu vi và diện tích\n",
    "\n",
    "import math\n",
    "a,b,c = map(float, input().split())\n",
    "\n",
    "if (a + b > c) and (a + c > b) and (b + c > a) and (a > 0) and (b > 0) and (c > 0):\n",
    "    p = (a+b+c)/2\n",
    "    s = math.sqrt(p*(p-a)*(p-b)*(p-c))\n",
    "    print(f\"Perimeter: {2*p:.2f}\\nArea: {s:.2f}\")\n",
    "else:\n",
    "    print(\"Not Triangle\")"
   ]
  },
  {
   "cell_type": "code",
   "execution_count": 1,
   "id": "67d2c1c9-bcde-4467-a25d-56b265570251",
   "metadata": {},
   "outputs": [
    {
     "name": "stdin",
     "output_type": "stream",
     "text": [
      " 29/2/2000\n"
     ]
    },
    {
     "name": "stdout",
     "output_type": "stream",
     "text": [
      "valid\n"
     ]
    }
   ],
   "source": [
    "# Kiểm tra ngày tháng năm nhập vào có hợp lệ không\n",
    "# Sử dụng if...else\n",
    "\n",
    "day, month, year = map(int, input().split('/'))\n",
    "\n",
    "#Check\n",
    "if (year >= 1900) and (1 <= month <= 12) and (1 <= day <= 31):\n",
    "    if (month == 4) or (month == 6) or (month == 9) or (month == 11):\n",
    "        if day == 31:\n",
    "            print(\"invalid\")\n",
    "        else: print(\"valid\")\n",
    "            \n",
    "    elif (month == 1) or (month == 3) or (month == 5) or (month == 7) or (month == 8) or (month == 10) or (month == 12):\n",
    "        print(\"valid\")\n",
    "\n",
    "    elif month == 2:\n",
    "        #LeapYear\n",
    "        if ((year % 400 == 0) or (year % 4 == 0 and year % 100 != 0)):\n",
    "            if 1 <= day <= 29:\n",
    "                print(\"valid\")\n",
    "            else: print(\"invalid\")\n",
    "        else: \n",
    "            if 1 <= day <= 28:\n",
    "                print(\"valid\")\n",
    "            else: print(\"invalid\")\n",
    "else: \n",
    "    print(\"invalid\")\n",
    "            \n",
    "\n"
   ]
  },
  {
   "cell_type": "code",
   "execution_count": 5,
   "id": "4382b020-e09b-4ae6-9124-efed37c1d55b",
   "metadata": {},
   "outputs": [
    {
     "name": "stdin",
     "output_type": "stream",
     "text": [
      " 0/5/2024\n"
     ]
    },
    {
     "name": "stdout",
     "output_type": "stream",
     "text": [
      "valid\n"
     ]
    }
   ],
   "source": [
    "# Kiểm tra ngày tháng năm nhập vào có hợp lệ không\n",
    "# Sử dụng match...case\n",
    "\n",
    "day, month, year = map(int, input().split('/'))\n",
    "max_day = -1\n",
    "match month:\n",
    "    case 1 | 3 | 5 | 7 | 8 | 10 | 12:\n",
    "        max_day = 31\n",
    "    case 4 | 6 | 9 | 11:\n",
    "        max_day = 30\n",
    "    case 2:\n",
    "        if (year % 400 == 0) or (year % 4 == 0 and year % 100 != 0):\n",
    "            max_day = 29\n",
    "        else: max_day = 28\n",
    "if (1<= day <= max_day) and (year >= 1900):\n",
    "    print(\"valid\")\n",
    "else: print(\"invalid\")"
   ]
  },
  {
   "cell_type": "code",
   "execution_count": null,
   "id": "f1a5a351-89cb-4bd2-a1b8-dc6dab354e53",
   "metadata": {},
   "outputs": [],
   "source": []
  }
 ],
 "metadata": {
  "kernelspec": {
   "display_name": "Python 3 (ipykernel)",
   "language": "python",
   "name": "python3"
  },
  "language_info": {
   "codemirror_mode": {
    "name": "ipython",
    "version": 3
   },
   "file_extension": ".py",
   "mimetype": "text/x-python",
   "name": "python",
   "nbconvert_exporter": "python",
   "pygments_lexer": "ipython3",
   "version": "3.13.7"
  }
 },
 "nbformat": 4,
 "nbformat_minor": 5
}
