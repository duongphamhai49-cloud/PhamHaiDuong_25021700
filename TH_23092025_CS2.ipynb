{
 "cells": [
  {
   "cell_type": "code",
   "execution_count": 8,
   "id": "67d2c1c9-bcde-4467-a25d-56b265570251",
   "metadata": {},
   "outputs": [
    {
     "name": "stdin",
     "output_type": "stream",
     "text": [
      " 50/01/2001\n"
     ]
    },
    {
     "name": "stdout",
     "output_type": "stream",
     "text": [
      "invalid\n"
     ]
    }
   ],
   "source": [
    "#Kiểm tra ngày tháng năm nhập vào có hợp lệ không\n",
    "\n",
    "day, month, year = map(int, input().split('/'))\n",
    "\n",
    "#Check\n",
    "if (year >= 1900) and (1 <= month <= 12) and (1 <= day <= 31):\n",
    "    if (month == 4) or (month == 6) or (month == 9) or (month == 11):\n",
    "        if day == 31:\n",
    "            print(\"invalid\")\n",
    "        else: print(\"valid\")\n",
    "            \n",
    "    elif (month == 1) or (month == 3) or (month == 5) or (month == 7) or (month == 8) or (month == 10) or (month == 12):\n",
    "        print(\"valid\")\n",
    "\n",
    "    elif month == 2:\n",
    "        #LeapYear\n",
    "        if ((year % 400 == 0) or (year % 4 == 0 and year % 100 != 0)):\n",
    "            if 1 <= day <= 29:\n",
    "                print(\"valid\")\n",
    "            else: print(\"invalid\")\n",
    "        else: \n",
    "            if 1 <= day <= 28:\n",
    "                print(\"valid\")\n",
    "            else: print(\"invalid\")\n",
    "else: \n",
    "    print(\"invalid\")\n",
    "            \n",
    "\n"
   ]
  }
 ],
 "metadata": {
  "kernelspec": {
   "display_name": "Python 3 (ipykernel)",
   "language": "python",
   "name": "python3"
  },
  "language_info": {
   "codemirror_mode": {
    "name": "ipython",
    "version": 3
   },
   "file_extension": ".py",
   "mimetype": "text/x-python",
   "name": "python",
   "nbconvert_exporter": "python",
   "pygments_lexer": "ipython3",
   "version": "3.13.7"
  }
 },
 "nbformat": 4,
 "nbformat_minor": 5
}
