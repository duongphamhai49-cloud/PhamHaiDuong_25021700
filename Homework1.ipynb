{
 "cells": [
  {
   "cell_type": "code",
   "execution_count": 1,
   "id": "ddb8cb6b-c5ac-4d23-98c6-e6d52cb6dc3b",
   "metadata": {},
   "outputs": [
    {
     "name": "stdin",
     "output_type": "stream",
     "text": [
      " 23\n"
     ]
    },
    {
     "name": "stdout",
     "output_type": "stream",
     "text": [
      "46\n"
     ]
    }
   ],
   "source": [
    "# Exercise 1: Input int n -> Output 2n\n",
    "\n",
    "n = int(input())\n",
    "print(2*n)"
   ]
  },
  {
   "cell_type": "code",
   "execution_count": 2,
   "id": "65a73594-4932-4f06-82cc-8d6031e1f636",
   "metadata": {},
   "outputs": [
    {
     "name": "stdin",
     "output_type": "stream",
     "text": [
      " 2 4\n"
     ]
    },
    {
     "name": "stdout",
     "output_type": "stream",
     "text": [
      "4.86\n"
     ]
    }
   ],
   "source": [
    "# Exercise 2: Input a,b -> Print area of planting\n",
    "\n",
    "a, b = map(float, input().split())\n",
    "area = (a*b) - 3.14 * ((a/2)**2)\n",
    "print(f\"{area:.2f}\")"
   ]
  },
  {
   "cell_type": "code",
   "execution_count": 16,
   "id": "29814af1-0cea-466b-a524-4b2c1b7263c3",
   "metadata": {},
   "outputs": [
    {
     "name": "stdin",
     "output_type": "stream",
     "text": [
      " '\n"
     ]
    },
    {
     "name": "stdout",
     "output_type": "stream",
     "text": [
      "Không phải chữ cái\n"
     ]
    }
   ],
   "source": [
    "# Exercise 3: Input char \"c\"/\"C\" -> Print \"C\"/\"c\"\n",
    "\n",
    "c = input()\n",
    "org = ord(c)\n",
    "if 65 <= org <= 90:\n",
    "    print(chr(org+32))\n",
    "elif 92 <= org <= 122:\n",
    "    print(chr(org-32))\n",
    "else:\n",
    "    print(\"Khong phai chu cai\")"
   ]
  },
  {
   "cell_type": "code",
   "execution_count": 15,
   "id": "59c96e99-47c8-4f03-8076-0e1020277eff",
   "metadata": {},
   "outputs": [
    {
     "name": "stdin",
     "output_type": "stream",
     "text": [
      " s\n"
     ]
    },
    {
     "name": "stdout",
     "output_type": "stream",
     "text": [
      "s là kí tự alphabet\n"
     ]
    }
   ],
   "source": [
    "# Exercise 4: Check if c is a letter\n",
    "\n",
    "c = input()\n",
    "org = ord(c)\n",
    "if (65 <= org <= 90) or (92 <= org <= 122):\n",
    "    print(f\"{c} là ki tu alphabet\")\n",
    "else:\n",
    "    print(f\"{c} khong phai la ki tu alphabet\")"
   ]
  },
  {
   "cell_type": "code",
   "execution_count": 20,
   "id": "b879f043-718a-45b5-8d62-c828be856fe2",
   "metadata": {},
   "outputs": [
    {
     "name": "stdin",
     "output_type": "stream",
     "text": [
      " B\n"
     ]
    },
    {
     "name": "stdout",
     "output_type": "stream",
     "text": [
      "a\n"
     ]
    }
   ],
   "source": [
    "# Exercise 5: Print the letter before lowercase c\n",
    "\n",
    "C = input()\n",
    "if C == \"A\":\n",
    "    print('z')\n",
    "else:\n",
    "    print(chr(ord(C)+31))"
   ]
  },
  {
   "cell_type": "code",
   "execution_count": 27,
   "id": "815f7627-dde6-40af-b17d-d87c713b5cee",
   "metadata": {},
   "outputs": [
    {
     "name": "stdin",
     "output_type": "stream",
     "text": [
      " 4 5 5\n"
     ]
    },
    {
     "name": "stdout",
     "output_type": "stream",
     "text": [
      "9.2\n"
     ]
    }
   ],
   "source": [
    "# Exercise 6: Check triangle and Calculate the area \n",
    "\n",
    "def area_of_triangle(a,b,c):\n",
    "    p = (a+b+c)/2\n",
    "    s = (p*(p-a)*(p-b)*(p-c))**(1/2)\n",
    "    return s\n",
    "\n",
    "a, b, c = map(float, input().split())\n",
    "if (a>0) and (b>0) and (c>0) and (a < b + c) and (b < a + c) and (c < a + b):\n",
    "    print(f\"{area_of_triangle(a,b,c):.1f}\")\n",
    "else:\n",
    "    print(\"Khong phai 3 canh cua tam giac\")"
   ]
  },
  {
   "cell_type": "code",
   "execution_count": 29,
   "id": "1af38c11-8349-4111-bba9-1c1b5635a1ee",
   "metadata": {},
   "outputs": [
    {
     "name": "stdin",
     "output_type": "stream",
     "text": [
      " 34334434343\n"
     ]
    },
    {
     "name": "stdout",
     "output_type": "stream",
     "text": [
      "4 3\n"
     ]
    }
   ],
   "source": [
    "# Exercise 7: Print the 5th and 8th characters\n",
    "\n",
    "s = input()\n",
    "print(s[4], s[8])"
   ]
  },
  {
   "cell_type": "code",
   "execution_count": 46,
   "id": "be8b8870-0c5a-4fbd-9871-b058c0a868cd",
   "metadata": {},
   "outputs": [
    {
     "name": "stdin",
     "output_type": "stream",
     "text": [
      "Ten chu ho: iii\n",
      "Chi so thang truoc: 2000\n",
      "Chi so thang nay: 2586\n"
     ]
    },
    {
     "name": "stdout",
     "output_type": "stream",
     "text": [
      "Ho va ten: iii\n",
      "Tien phai tra la: 1855505\n"
     ]
    }
   ],
   "source": [
    "# Exercise 8: Electricity bill\n",
    "\n",
    "def rounding(n):\n",
    "    decimal = n - int(n)\n",
    "    if decimal < 0.5: \n",
    "        return int(n)\n",
    "    else: \n",
    "        return int(n)+1\n",
    "        \n",
    "name = input(\"Ten chu ho:\")\n",
    "before = int(input(\"Chi so thang truoc:\"))\n",
    "after = int(input(\"Chi so thang nay:\"))\n",
    "\n",
    "steps = [(50,1984), (50,2050), (100,2380), (100,2998), (100,3350), (float('inf'),3460)]\n",
    "elecNum = after - before\n",
    "\n",
    "price = 0\n",
    "for kWh, rate in steps:        # Chạy từng bậc giá điện\n",
    "    used = min(elecNum, kWh)   # Lấy số điện tương ứng\n",
    "    price += used * rate       # Lấy số điện nhân với giá bậc điện tương ứng\n",
    "    elecNum -= used            # Tính số điện còn lại\n",
    "    if elecNum <= 0:           # Dừng vòng lặp khi đã hết số điện\n",
    "        break\n",
    "\n",
    "print(\"Ho va ten:\", name)\n",
    "print(\"Tien phai tra la:\", rounding(price*1.08))\n",
    "    \n",
    "    \n"
   ]
  },
  {
   "cell_type": "markdown",
   "id": "edd90063-6f0c-4e52-80f3-05e1eb8ffca6",
   "metadata": {},
   "source": [
    "Một số bài tập khác"
   ]
  },
  {
   "cell_type": "code",
   "execution_count": 50,
   "id": "1fe390a7-70f1-4d46-8c6c-d5054279d3a4",
   "metadata": {},
   "outputs": [
    {
     "name": "stdin",
     "output_type": "stream",
     "text": [
      " -4\n"
     ]
    },
    {
     "name": "stdout",
     "output_type": "stream",
     "text": [
      "-4 la so chan\n"
     ]
    }
   ],
   "source": [
    "# Exercise 1*: Check even or odd number\n",
    "\n",
    "n = int(input())\n",
    "if n % 2 == 0:\n",
    "    print(f\"{n} la so chan\")\n",
    "else:\n",
    "    print(f\"{n} la so le\")"
   ]
  },
  {
   "cell_type": "code",
   "execution_count": 52,
   "id": "a2553c48-67f1-40b5-84b8-7120aba88593",
   "metadata": {},
   "outputs": [
    {
     "name": "stdin",
     "output_type": "stream",
     "text": [
      " 15\n"
     ]
    },
    {
     "name": "stdout",
     "output_type": "stream",
     "text": [
      "True\n"
     ]
    }
   ],
   "source": [
    "# Exercise 2*: Check if the last digit is 5\n",
    "\n",
    "n = int(input())\n",
    "if n % 10 == 5:\n",
    "    print(True)\n",
    "else:\n",
    "    print(False)\n"
   ]
  },
  {
   "cell_type": "code",
   "execution_count": 55,
   "id": "5e42ccb5-c636-4fda-aabf-ce73d1eff305",
   "metadata": {},
   "outputs": [
    {
     "name": "stdin",
     "output_type": "stream",
     "text": [
      " 30\n"
     ]
    },
    {
     "name": "stdout",
     "output_type": "stream",
     "text": [
      "True\n"
     ]
    }
   ],
   "source": [
    "# Exercise 3*: Check if number is divisible by 3 and 5\n",
    "\n",
    "n = int(input())\n",
    "if (n % 15 == 0):\n",
    "    print(True)\n",
    "else:\n",
    "    print(False)"
   ]
  },
  {
   "cell_type": "code",
   "execution_count": 58,
   "id": "63895a93-d438-4898-884f-0fd4728cf08f",
   "metadata": {},
   "outputs": [
    {
     "name": "stdin",
     "output_type": "stream",
     "text": [
      " 1998\n"
     ]
    },
    {
     "name": "stdout",
     "output_type": "stream",
     "text": [
      "Enough\n"
     ]
    }
   ],
   "source": [
    "# Exercise 4*: Check if the age is enough to vote\n",
    "\n",
    "n = int(input())\n",
    "if (2025 - n) >= 18:\n",
    "    print(\"Enough\")\n",
    "else:\n",
    "    print(\"Not Enough\")"
   ]
  },
  {
   "cell_type": "code",
   "execution_count": 62,
   "id": "51a6ba32-63f6-43cc-8226-2e0260596a44",
   "metadata": {},
   "outputs": [
    {
     "name": "stdin",
     "output_type": "stream",
     "text": [
      " 3.2 3\n"
     ]
    },
    {
     "name": "stdout",
     "output_type": "stream",
     "text": [
      "3.2\n"
     ]
    }
   ],
   "source": [
    "# Exercise 5*: Compare two numbers\n",
    "\n",
    "a, b = map(float, input().split())\n",
    "if a == b:\n",
    "    print(\"Two numbers are equal\")\n",
    "elif max(a,b).is_integer():\n",
    "    print(int(max(a,b)))\n",
    "else:\n",
    "    print(max(a,b))"
   ]
  },
  {
   "cell_type": "code",
   "execution_count": 73,
   "id": "c7a6eb59-279f-44fd-85b8-f45847eefb93",
   "metadata": {},
   "outputs": [
    {
     "name": "stdin",
     "output_type": "stream",
     "text": [
      " A\n"
     ]
    },
    {
     "name": "stdout",
     "output_type": "stream",
     "text": [
      "A la chu cai\n"
     ]
    }
   ],
   "source": [
    "# Exercise 6*: Check letter or digit\n",
    "\n",
    "c = input()\n",
    "if c.isdigit():\n",
    "    print(f\"{c} la so\")\n",
    "elif c.isalpha():\n",
    "    print(f\"{c} la chu cai\")\n",
    "else:\n",
    "    print(f\"{c} khong phai chu cai cung khong phai so\")"
   ]
  },
  {
   "cell_type": "code",
   "execution_count": 75,
   "id": "e8f6793c-a0d5-4fa6-8c1b-920145f806b9",
   "metadata": {},
   "outputs": [
    {
     "name": "stdin",
     "output_type": "stream",
     "text": [
      " 5\n"
     ]
    },
    {
     "name": "stdout",
     "output_type": "stream",
     "text": [
      "Trung binh\n"
     ]
    }
   ],
   "source": [
    "# Exercise 7*: Check academic performance \n",
    "\n",
    "types = ((8,\"Gioi\"), (6.5, \"Kha\"), (5, \"Trung binh\"),(0, \"Yeu\"))\n",
    "mark = float(input())\n",
    "if not 0 <= mark <= 10:\n",
    "    print(\"Nhap diem khong dung\")\n",
    "else:\n",
    "    for score, rank in types:\n",
    "        if mark >= score:\n",
    "            print(rank)\n",
    "            break\n",
    "            \n",
    "    "
   ]
  },
  {
   "cell_type": "code",
   "execution_count": 78,
   "id": "fb913785-3a79-4ecd-a1db-d4800e2ad828",
   "metadata": {},
   "outputs": [
    {
     "name": "stdin",
     "output_type": "stream",
     "text": [
      " 2020\n"
     ]
    },
    {
     "name": "stdout",
     "output_type": "stream",
     "text": [
      "True\n"
     ]
    }
   ],
   "source": [
    "# Exercise 8*: Check leap year\n",
    "\n",
    "n = int(input())\n",
    "\n",
    "if (n % 400 == 0) or (n % 4 == 0 and n % 100 != 0):\n",
    "    print(True)\n",
    "else: print(False)"
   ]
  },
  {
   "cell_type": "code",
   "execution_count": 84,
   "id": "f4cce5ab-d45c-4830-bfcf-47b7c1944bf5",
   "metadata": {},
   "outputs": [
    {
     "name": "stdin",
     "output_type": "stream",
     "text": [
      " 3\n"
     ]
    },
    {
     "name": "stdout",
     "output_type": "stream",
     "text": [
      "Ba\n"
     ]
    }
   ],
   "source": [
    "# Exercise 9*: Match...case 1\n",
    "\n",
    "n = int(input())\n",
    "match n:\n",
    "    case 0: print(\"Không\")\n",
    "    case 1: print(\"Một\")\n",
    "    case 2: print(\"Hai\")\n",
    "    case 3: print(\"Ba\")\n",
    "    case 4: print(\"Bốn\")\n",
    "    case 5: print(\"Năm\")\n",
    "    case 6: print(\"Sáu\")\n",
    "    case 7: print(\"Bảy\")\n",
    "    case 8: print(\"Tám\")\n",
    "    case 9: print(\"Chín\")\n",
    "\n"
   ]
  },
  {
   "cell_type": "code",
   "execution_count": 87,
   "id": "519c62e7-7c62-483d-980e-c5b2cb7c3c41",
   "metadata": {},
   "outputs": [
    {
     "name": "stdin",
     "output_type": "stream",
     "text": [
      " 3\n"
     ]
    },
    {
     "name": "stdout",
     "output_type": "stream",
     "text": [
      "Học lại\n"
     ]
    }
   ],
   "source": [
    "# Exercise 10*: Match...case 2\n",
    "\n",
    "n = float(input())\n",
    "match n:\n",
    "    case n if n >= 4: print(\"Qua môn\")\n",
    "    case _: print(\"Học lại\")"
   ]
  },
  {
   "cell_type": "code",
   "execution_count": 92,
   "id": "d72657e5-b7a4-4470-8189-052edd63a3a1",
   "metadata": {},
   "outputs": [
    {
     "name": "stdin",
     "output_type": "stream",
     "text": [
      " 2007\n"
     ]
    },
    {
     "name": "stdout",
     "output_type": "stream",
     "text": [
      "Du 18 tuoi\n"
     ]
    }
   ],
   "source": [
    "# Exercise 11*: Check 18 years old\n",
    "\n",
    "yearborn = int(input())\n",
    "if (2025 - yearborn) >= 18:\n",
    "    print(\"Du 18 tuoi\")\n",
    "else:\n",
    "    print(\"Chua du 18 tuoi\")"
   ]
  }
 ],
 "metadata": {
  "kernelspec": {
   "display_name": "Python 3 (ipykernel)",
   "language": "python",
   "name": "python3"
  },
  "language_info": {
   "codemirror_mode": {
    "name": "ipython",
    "version": 3
   },
   "file_extension": ".py",
   "mimetype": "text/x-python",
   "name": "python",
   "nbconvert_exporter": "python",
   "pygments_lexer": "ipython3",
   "version": "3.13.7"
  }
 },
 "nbformat": 4,
 "nbformat_minor": 5
}
