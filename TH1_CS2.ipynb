{
 "cells": [
  {
   "cell_type": "code",
   "execution_count": 1,
   "id": "f690ac28-87df-47e3-9d15-56a4595fd646",
   "metadata": {},
   "outputs": [
    {
     "name": "stdout",
     "output_type": "stream",
     "text": [
      "2\n"
     ]
    }
   ],
   "source": [
    "#W1A1\n",
    "\n",
    "a = 7     #Gán giá trị cho a bằng 7\n",
    "b = 5     #Gán giá trị cho b bằng 5\n",
    "c = a - b #Thực hiện phép trừ a cho b, gán kết quả cho c\n",
    "print(c)  #Hiển thị kết quả ra màn hình"
   ]
  },
  {
   "cell_type": "code",
   "execution_count": 2,
   "id": "35fcf896-9acb-4c17-a40c-a655ec22db70",
   "metadata": {},
   "outputs": [
    {
     "name": "stdout",
     "output_type": "stream",
     "text": [
      "Thành phố: Hà Nội - Năm 2025\n"
     ]
    }
   ],
   "source": [
    "#W1A2\n",
    "\n",
    "city = \"Hà Nội\" #Gán chuỗi \"Hà Nội\" vào biến city\n",
    "year = 2025     #Gán số nguyên 2025 vào biến year\n",
    "print(\"Thành phố:\", city, \"- Năm\", year) #In dữ liệu ra màn hình"
   ]
  },
  {
   "cell_type": "code",
   "execution_count": 3,
   "id": "27b6a0c0-f89f-4f1b-ac98-d0d4f4aef02e",
   "metadata": {},
   "outputs": [
    {
     "name": "stdout",
     "output_type": "stream",
     "text": [
      "10\n"
     ]
    }
   ],
   "source": [
    "#W1A3\n",
    "\n",
    "n = 4  #Gán giá trị 4 cho biến n\n",
    "t = 0  #Gán giá trị 0 cho biến t (để tính tổng)\n",
    "for i in range(1,n+1): #Vòng lặp for với i chạy từ 1 đến n (cả n)\n",
    "    t += i #Cộng giá trị của i vào t sau mỗi vòng lặp\n",
    "print(t) #In kết quả ra màn hình"
   ]
  },
  {
   "cell_type": "code",
   "execution_count": 4,
   "id": "c52f8a48-e30d-49a7-b4ad-40b3c509edc4",
   "metadata": {},
   "outputs": [
    {
     "name": "stdout",
     "output_type": "stream",
     "text": [
      "1 là số lẻ\n",
      "2 là số chẵn\n",
      "3 là số lẻ\n",
      "4 là số chẵn\n"
     ]
    }
   ],
   "source": [
    "#W1A4\n",
    "\n",
    "numbers = [1, 2, 3, 4]         # Tạo danh sách gồm các số 1, 2, 3, 4\n",
    "for x in numbers:               # Lặp qua từng phần tử x trong danh sách numbers\n",
    "    if x % 2 == 0:              # Nếu x chia hết cho 2 (số chẵn)\n",
    "        print(x, \"là số chẵn\")  # In ra x kèm dòng chữ \"là số chẵn\"\n",
    "    else:                       # Ngược lại (x là số lẻ)\n",
    "        print(x, \"là số lẻ\")    # In ra x kèm dòng chữ \"là số lẻ\"\n",
    "\n"
   ]
  },
  {
   "cell_type": "code",
   "execution_count": 5,
   "id": "283913e7-41c7-4932-8fc9-f6e445b0bf05",
   "metadata": {},
   "outputs": [
    {
     "name": "stdout",
     "output_type": "stream",
     "text": [
      "Số phần tử trong danh sách là: 4\n"
     ]
    }
   ],
   "source": [
    "#W1A5\n",
    "\n",
    "animals = [\"cat\", \"dog\", \"cat\", \"bird\"]   # Tạo danh sách animals gồm 4 phần tử: \"cat\", \"dog\", \"cat\", \"bird\"\n",
    "count = 0         # Khởi tạo biến đếm count = 0\n",
    "for a in animals:    # Lặp qua từng phần tử a trong danh sách animals\n",
    "    count += 1       # Mỗi lần lặp thì cộng 1 vào biến count\n",
    "print(\"Số phần tử trong danh sách là:\", count)  # In ra kết quả đếm được\n"
   ]
  },
  {
   "cell_type": "code",
   "execution_count": 6,
   "id": "ca32f017-47ca-408c-ad41-66721ab9136c",
   "metadata": {},
   "outputs": [
    {
     "ename": "SyntaxError",
     "evalue": "unmatched ')' (1410928241.py, line 4)",
     "output_type": "error",
     "traceback": [
      "  \u001b[36mCell\u001b[39m\u001b[36m \u001b[39m\u001b[32mIn[6]\u001b[39m\u001b[32m, line 4\u001b[39m\n\u001b[31m    \u001b[39m\u001b[31m1) Sentiment analysis\u001b[39m\n     ^\n\u001b[31mSyntaxError\u001b[39m\u001b[31m:\u001b[39m unmatched ')'\n"
     ]
    }
   ],
   "source": [
    "#W1A6\n",
    "\n",
    "=== AI Prediction System === #Tiêu đề của chương trình, giới thiệu đây là hệ thống dự đoán bằng AI\n",
    "1) Sentiment analysis \n",
    "2) Weather forecast \n",
    "3) Exit \n",
    "#Là danh sách các lựa chọn (menu options) cho người dùng\n",
    "Please choose an option: #Yêu cầu người dùng nhập vào lựa chọn (ví dụ 1, 2 hoặc 3)\n",
    "\n"
   ]
  },
  {
   "cell_type": "code",
   "execution_count": 9,
   "id": "3c672128-522c-4803-9b8f-91e7f5cd073e",
   "metadata": {},
   "outputs": [
    {
     "name": "stdin",
     "output_type": "stream",
     "text": [
      "Nhập số: 2\n"
     ]
    },
    {
     "name": "stdout",
     "output_type": "stream",
     "text": [
      "Số chẵn\n"
     ]
    }
   ],
   "source": [
    "#W1A7\n",
    "\n",
    "'''Code lỗi\n",
    "num = input(\"Nhập số:\")\n",
    "if num % 2 = 0:\n",
    "    print(\"Số chẵn\")\n",
    "else\n",
    "    print(\"Số lẻ\") '''\n",
    "#AI sửa\n",
    "num = int(input(\"Nhập số:\"))  #Chuyển chuỗi về số nguyên (int)\n",
    "if num % 2 == 0:    #Dùng \"==\" cho toán tử so sánh\n",
    "    print(\"Số chẵn\")\n",
    "else:    #Dấu : sau else\n",
    "    print(\"Số lẻ\")\n",
    "\n"
   ]
  },
  {
   "cell_type": "code",
   "execution_count": 11,
   "id": "7e0d7083-74e2-4941-8554-dd1b4a0a12c7",
   "metadata": {},
   "outputs": [
    {
     "name": "stdout",
     "output_type": "stream",
     "text": [
      "AI đang học lần 1\n",
      "AI đang học lần 2\n",
      "AI đang học lần 3\n",
      "Huấn luyện xong!\n"
     ]
    }
   ],
   "source": [
    "#W1A8\n",
    "\n",
    "for i in range(3):                     # Lặp i từ 0 đến 2 (tổng cộng 3 lần)\n",
    "    print(\"AI đang học lần\", i+1)      # In ra số lần học (cộng 1 vì i bắt đầu từ 0)\n",
    "print(\"Huấn luyện xong!\")              # Sau khi vòng lặp kết thúc, in thông báo hoàn tất"
   ]
  },
  {
   "cell_type": "code",
   "execution_count": 13,
   "id": "7a32dc3c-a33d-446e-aa13-15fc0dc4f8e5",
   "metadata": {},
   "outputs": [
    {
     "name": "stdout",
     "output_type": "stream",
     "text": [
      "Dự đoán con vật: cat\n",
      "Dự đoán con vật: dog\n",
      "Dự đoán con vật: fish\n"
     ]
    }
   ],
   "source": [
    "#W1A9\n",
    "\n",
    "for x in [\"cat\", \"dog\", \"fish\"]:        # Lặp qua từng phần tử trong danh sách [\"cat\", \"dog\", \"fish\"]\n",
    "    print(\"Dự đoán con vật:\", x)        # In ra chuỗi kèm theo giá trị của x"
   ]
  },
  {
   "cell_type": "code",
   "execution_count": 15,
   "id": "5725d307-17ad-4a2d-b011-2dfd54786d50",
   "metadata": {},
   "outputs": [
    {
     "name": "stdout",
     "output_type": "stream",
     "text": [
      "=== AI Prediction System ===\n",
      "1) Sentiment analysis\n",
      "2) Weather forecast\n",
      "3) Exit\n",
      "Please choose an option:\n"
     ]
    }
   ],
   "source": [
    "#W1A10\n",
    "\n",
    "'''Code lỗi\n",
    "#Simple menu \n",
    "print \"=== AI Prediction System ===\" \n",
    "print(\"1) Sentiment analysis\" \n",
    "print(\"2) Weather forecast\")) \n",
    "print('3) Exit' \n",
    "print(\"Please choose an option:\") '''\n",
    "\n",
    "#AI giải thích\n",
    "'''\n",
    "# Simple menu \n",
    "print \"=== AI Prediction System ===\"        # ❌ Sai cú pháp (thiếu dấu ngoặc tròn trong Python 3)\n",
    "print(\"1) Sentiment analysis\"               # ❌ Thiếu dấu ngoặc đóng )\n",
    "print(\"2) Weather forecast\"))               # ❌ Thừa dấu ngoặc ))\n",
    "print('3) Exit'                             # ❌ Thiếu dấu ngoặc đóng )\n",
    "print(\"Please choose an option:\")           # ✅ Dòng này đúng '''\n",
    "\n",
    "#AI sửa\n",
    "# Simple menu \n",
    "print(\"=== AI Prediction System ===\")   # In tiêu đề\n",
    "print(\"1) Sentiment analysis\")          # In lựa chọn 1\n",
    "print(\"2) Weather forecast\")            # In lựa chọn 2\n",
    "print(\"3) Exit\")                        # In lựa chọn 3\n",
    "print(\"Please choose an option:\")       # In yêu cầu chọn\n"
   ]
  },
  {
   "cell_type": "code",
   "execution_count": null,
   "id": "30be9b68-8cd5-42c6-8f5f-944c78cc7639",
   "metadata": {},
   "outputs": [],
   "source": []
  }
 ],
 "metadata": {
  "kernelspec": {
   "display_name": "Python 3 (ipykernel)",
   "language": "python",
   "name": "python3"
  },
  "language_info": {
   "codemirror_mode": {
    "name": "ipython",
    "version": 3
   },
   "file_extension": ".py",
   "mimetype": "text/x-python",
   "name": "python",
   "nbconvert_exporter": "python",
   "pygments_lexer": "ipython3",
   "version": "3.13.7"
  }
 },
 "nbformat": 4,
 "nbformat_minor": 5
}
