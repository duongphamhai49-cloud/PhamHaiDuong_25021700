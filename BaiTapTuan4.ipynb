{
 "cells": [
  {
   "cell_type": "code",
   "execution_count": 7,
   "id": "4adf1cfa-31bc-41c2-b2e1-efb37e29dac3",
   "metadata": {},
   "outputs": [
    {
     "name": "stdin",
     "output_type": "stream",
     "text": [
      "Nhập số nguyên dương n: 1000\n"
     ]
    },
    {
     "name": "stdout",
     "output_type": "stream",
     "text": [
      "500500\n"
     ]
    }
   ],
   "source": [
    "# W4A1: [SumOfNumbers] Tính tổng các số nguyên từ 1 đến n\n",
    "\n",
    "try:\n",
    "    n = int(input(\"Nhập số nguyên dương n:\"))\n",
    "    if 0 < n <= 1000:\n",
    "        total = 0\n",
    "        for i in range(1, n+1):\n",
    "            total += i\n",
    "        print(total)\n",
    "    else:\n",
    "        print(\"0 < n <= 1000   !!\")\n",
    "except ValueError:\n",
    "    print(\"Đầu vào không hợp lệ\")"
   ]
  },
  {
   "cell_type": "code",
   "execution_count": 19,
   "id": "becc8a31-77d1-464b-a50b-03343b60213d",
   "metadata": {},
   "outputs": [
    {
     "name": "stdin",
     "output_type": "stream",
     "text": [
      "Nhập số nguyên dương n: 9\n"
     ]
    },
    {
     "name": "stdout",
     "output_type": "stream",
     "text": [
      "9 không phải số nguyên tố\n"
     ]
    }
   ],
   "source": [
    "# W4A2: Viết chương trình nhập vào một số tới khi được một số nguyên dương thì thôi. \n",
    "# Kiểm tra số này có phải là số nguyên tố hay không?\n",
    "\n",
    "import math\n",
    "\n",
    "try:\n",
    "    n = int(input(\"Nhập số nguyên dương n:\"))\n",
    "    while (n <= 0):\n",
    "        n = int(input(\"Nhập lại số nguyên dương n:\"))\n",
    "    flag = True\n",
    "    if n >= 2:\n",
    "        # Kiểm tra số nguyên tố\n",
    "        for i in range(2, int(math.sqrt(n))+1):\n",
    "            if n % i == 0:\n",
    "                flag = False\n",
    "                break\n",
    "        print(f\"{n} là số nguyên số\" if flag else f\"{n} không phải số nguyên tố\")\n",
    "    else:\n",
    "        print(f\"{n} không phải số nguyên tố\")\n",
    "except ValueError:\n",
    "    print(\"Đầu vào không hợp lệ\")\n",
    "        "
   ]
  },
  {
   "cell_type": "code",
   "execution_count": 6,
   "id": "597f6d5e-66ba-4aeb-8ae0-78def0e80b9a",
   "metadata": {},
   "outputs": [
    {
     "name": "stdin",
     "output_type": "stream",
     "text": [
      "Nhập n nguyên dương bé hơn 100: 99\n"
     ]
    },
    {
     "name": "stdout",
     "output_type": "stream",
     "text": [
      "933262154439441526816992388562667004907159682643816214685929638952175999932299156089414639761565182862536979208272237582511852109168640000000000000000000000\n"
     ]
    }
   ],
   "source": [
    "# W4A3: Tính giai thừa \n",
    "\n",
    "import math\n",
    "        \n",
    "try:\n",
    "    n = int(input(\"Nhập n nguyên dương bé hơn 100:\"))\n",
    "    if 0 < n < 100:\n",
    "        print(math.factorial(n))\n",
    "    else:\n",
    "        print(\"0 < n < 100   !!!\")\n",
    "except ValueError:\n",
    "    print(\"Đầu vào không hợp lệ\")"
   ]
  },
  {
   "cell_type": "code",
   "execution_count": 43,
   "id": "770dc004-59a9-4aa7-8783-acd90ebf5520",
   "metadata": {},
   "outputs": [
    {
     "name": "stdin",
     "output_type": "stream",
     "text": [
      "Nhập số nguyên n: 12312\n"
     ]
    },
    {
     "name": "stdout",
     "output_type": "stream",
     "text": [
      "5\n"
     ]
    }
   ],
   "source": [
    "# W4A4: Số chữ số của số nguyên n:\n",
    "\n",
    "try:\n",
    "    n = int(input(\"Nhập số nguyên n:\"))\n",
    "    n = abs(n)\n",
    "    count = 0\n",
    "    if n == 0:\n",
    "        count += 1\n",
    "    else:\n",
    "        while n > 0:\n",
    "            n //= 10\n",
    "            count += 1\n",
    "    print(count)\n",
    "except ValueError:\n",
    "    print(\"Đầu vào không hợp lệ\")"
   ]
  },
  {
   "cell_type": "code",
   "execution_count": 10,
   "id": "1cb571f8-4254-4de3-8678-0bfe7f603ecf",
   "metadata": {},
   "outputs": [
    {
     "name": "stdin",
     "output_type": "stream",
     "text": [
      "Nhập n = 4\n",
      " 812\n",
      " 48\n",
      " se\n"
     ]
    },
    {
     "name": "stdout",
     "output_type": "stream",
     "text": [
      "Nhập số nguyên !!\n"
     ]
    },
    {
     "name": "stdin",
     "output_type": "stream",
     "text": [
      " 12\n",
      " 44\n"
     ]
    },
    {
     "name": "stdout",
     "output_type": "stream",
     "text": [
      "It's a joke\n"
     ]
    }
   ],
   "source": [
    "# W4A5: Nhập dãy n số nguyên, kiểm tra số 42 có trong dãy không\n",
    "\n",
    "try:\n",
    "    n = int(input(\"Nhập n =\"))\n",
    "    if n > 0:\n",
    "        flag = False\n",
    "        while n > 0:\n",
    "            try: \n",
    "                i = int(input())\n",
    "            except ValueError:\n",
    "                print(\"Nhập số nguyên !!\")\n",
    "                continue\n",
    "            if i == 42:\n",
    "                flag = True\n",
    "            n -= 1\n",
    "        print(\"I've found the meaning of life!\" if flag else \"It's a joke\")\n",
    "    else:\n",
    "        print(\"Nhập n nguyên dương !!\")\n",
    "except ValueError:\n",
    "    print(\"Đầu vào không hợp lệ !!\")"
   ]
  },
  {
   "cell_type": "code",
   "execution_count": 17,
   "id": "30e9e7c4-a15b-445a-ad37-c14cc3d80c6d",
   "metadata": {},
   "outputs": [
    {
     "name": "stdin",
     "output_type": "stream",
     "text": [
      "Nhập a, b: 10 100\n"
     ]
    },
    {
     "name": "stdout",
     "output_type": "stream",
     "text": [
      "Total = 1043\n"
     ]
    }
   ],
   "source": [
    "# W4A6: Tính tổng số nguyên tố trong [a,b]\n",
    "\n",
    "import math\n",
    "\n",
    "# def is_prime(n):\n",
    "#     if n <= 1:\n",
    "#         return False\n",
    "#     for i in range(2, math.isqrt(n) + 1):\n",
    "#         if n % i == 0:\n",
    "#             return False\n",
    "#     return True\n",
    "\n",
    "try:\n",
    "    a, b = map(int, input(\"Nhập a, b:\").split())\n",
    "    if (0 < a <= b):\n",
    "        \n",
    "        # Sàng Etanos\n",
    "        fprime = [True] * (math.isqrt(b)+1)\n",
    "        fprime[0] = fprime[1] = False\n",
    "        prime = [True] * (b - a + 1)    # Tạo mảng [a,b]\n",
    "        if a == 1:\n",
    "            prime[0] = False\n",
    "        p = 2\n",
    "        while p <= math.isqrt(b):\n",
    "            if fprime[p]:\n",
    "                \n",
    "                # Sàng trong mảng fprime\n",
    "                for i in range(p*p, len(fprime), p):\n",
    "                    fprime[i] = False\n",
    "                    \n",
    "                # Sàng trong mảng prime\n",
    "                start = (a+p-1)//p * p     # Bội của p đầu tiên trong [a,b]\n",
    "                if start == p:\n",
    "                    start += p\n",
    "                for i in range(start-a, len(prime), p):\n",
    "                    prime[i] = False\n",
    "            p += 1\n",
    "\n",
    "        # Có thể tỉnh tổng total = sum[a,b] rồi trừ đi các prime[i] = False\n",
    "        # Tính tổng\n",
    "        total = 0\n",
    "        for i in range(len(prime)):\n",
    "            if prime[i]:\n",
    "                total += i + a\n",
    "        print(f\"Total = {total}\")\n",
    "        \n",
    "        # total2 = 0\n",
    "        # for i in range(a, b+1):\n",
    "        #     if is_prime(i):\n",
    "        #         total2 += i\n",
    "        # print(total2)\n",
    "        \n",
    "    else:\n",
    "        print('a, b nguyên dương !! \\na<=b !!')\n",
    "except ValueError:\n",
    "    print(\"Đầu vào không hợp lệ\")"
   ]
  },
  {
   "cell_type": "code",
   "execution_count": 193,
   "id": "50188c8f-d78b-4d29-a725-388464c3fee4",
   "metadata": {},
   "outputs": [
    {
     "name": "stdin",
     "output_type": "stream",
     "text": [
      "Nhập n: 10\n"
     ]
    },
    {
     "name": "stdout",
     "output_type": "stream",
     "text": [
      "Ước nguyên tố lớn nhất của 10: 2\n"
     ]
    }
   ],
   "source": [
    "# W4A7:Ước số nguyên tố lớn nhất của n\n",
    "\n",
    "try:\n",
    "    n = int(input(\"Nhập n:\"))\n",
    "    if n >= 2:\n",
    "        res = -1\n",
    "        tmp = n\n",
    "\n",
    "        # Loại bỏ hết ước 2\n",
    "        while tmp % 2 == 0:\n",
    "            res = 2\n",
    "            tmp //= 2\n",
    "\n",
    "        # Kiểm tra và loại bỏ ước nguyên tố lẻ\n",
    "        # Chỉ kiểm tra đến sqrt(n) và các ước của n đều <= sqrt(n)\n",
    "        p = 3\n",
    "        while p*p <= tmp:     # Có nghĩa là p <= sqrt(tmp) \n",
    "            # >> tmp đang là hợp số\n",
    "            # >> nếu tmp là hợp số thì tmp có ước <= sqrt(tmp)\n",
    "            while tmp % p == 0:\n",
    "                res = p\n",
    "                tmp //= p     # clear hết ước p\n",
    "            p += 2\n",
    "        if tmp > 1:\n",
    "            res = tmp\n",
    "        print(f\"Ước nguyên tố lớn nhất của {n}: {res}\")\n",
    "    else:\n",
    "        print('!! n >= 2 !!')\n",
    "except ValueError:\n",
    "    print(\"Đầu vào không hợp lệ\")"
   ]
  },
  {
   "cell_type": "code",
   "execution_count": 68,
   "id": "d78c70af-0eae-4338-b4c5-a1792345c39a",
   "metadata": {},
   "outputs": [
    {
     "name": "stdin",
     "output_type": "stream",
     "text": [
      "Nhập n = 9837412424\n"
     ]
    },
    {
     "name": "stdout",
     "output_type": "stream",
     "text": [
      "Không tìm thấy sau 1001 bước\n"
     ]
    }
   ],
   "source": [
    "# W4A8: Nhập số nguyên dương n. Lặp lại phép toán n = n + reverse(n) cho đến khi n là số đối xứng\n",
    "# In ra số bước và giá trị palindrome thu được\n",
    "\n",
    "def palindrome(n):\n",
    "    s = str(n)\n",
    "    return s == s[::-1]\n",
    "\n",
    "try:\n",
    "    n = int(input(\"Nhập n =\"))\n",
    "    if n > 0:\n",
    "        count = 0\n",
    "        while not palindrome(n):\n",
    "            if count > 1000:\n",
    "                print(f\"Không tìm thấy sau {count} bước\")\n",
    "                break\n",
    "            n += int(str(n)[::-1])\n",
    "            count += 1\n",
    "        else:     # while..else >> else thực hiện khi while không bị break\n",
    "            print(f\"Palindrome = {n}\\nSố lần: {count}\")\n",
    "    else:\n",
    "        print(\"!! Nhập n nguyên dương\")\n",
    "except ValueError:\n",
    "    print(\"Đầu vào không hợp lệ\")\n",
    "    "
   ]
  },
  {
   "cell_type": "code",
   "execution_count": 91,
   "id": "cc290147-2598-43fb-b2f2-45abeb45ca08",
   "metadata": {},
   "outputs": [
    {
     "name": "stdin",
     "output_type": "stream",
     "text": [
      "Nhập n = 12312\n"
     ]
    },
    {
     "name": "stdout",
     "output_type": "stream",
     "text": [
      "0 1 4 9 16 25 36 49 64 81 169 196 256 289 324 361 529 576 625 729 784 841 961 1024 1089 1296 1369 1764 1849 1936 2304 2401 2601 2704 2809 2916 3025 3249 3481 3721 4096 4356 4761 5041 5184 5329 5476 6084 6241 6724 7056 7396 7569 7921 8649 9025 9216 9604 9801 "
     ]
    }
   ],
   "source": [
    "# W4A9: Nhập vào số nguyên dương n\n",
    "# In ra tất cả các số chính phương <= n có các chữ số đôi một khác nhau.\n",
    "# Nếu không có in ra 'no number'\n",
    "\n",
    "import math\n",
    "\n",
    "def dfrt_dig(n):\n",
    "    s = str(n)\n",
    "    return len(s) == len(set(s))   # set() >> Tập hợp các phần tử không trùng nhau\n",
    "\n",
    "try:\n",
    "    n = int(input(\"Nhập n =\"))\n",
    "    if n > 0:\n",
    "        flag = False\n",
    "        for i in range(int(math.sqrt(n)+1)):\n",
    "            ii = i*i\n",
    "            if dfrt_dig(ii):\n",
    "                print(ii, end=' ')\n",
    "                flag = True\n",
    "        if not flag:\n",
    "            print('no number')\n",
    "    else:\n",
    "        print(\"!! Nhập n nguyên dương\")\n",
    "except ValueError:\n",
    "    print(\"Đầu vào không hợp lệ\")"
   ]
  },
  {
   "cell_type": "code",
   "execution_count": 26,
   "id": "bd552803-8230-4e95-9457-afe78d25c3b1",
   "metadata": {},
   "outputs": [
    {
     "name": "stdin",
     "output_type": "stream",
     "text": [
      "Nhập n = 6\n"
     ]
    },
    {
     "name": "stdout",
     "output_type": "stream",
     "text": [
      "6 9\n"
     ]
    }
   ],
   "source": [
    "# W4A10: Nhập vào số nguyên dương n. Tìm số x trong [1,n] có độ dài dãy Collatz lớn nhất\n",
    "# In ra x cùng độ dài dãy tương ứng (x L)\n",
    "# Nếu có nhiều số cùng độ dài, chọn số nhỏ nhất\n",
    "\n",
    "try:\n",
    "    n = int(input(\"Nhập n =\"))\n",
    "    if n > 0:\n",
    "        count = [0]*(n+1)\n",
    "        for i in range(1,n+1):\n",
    "            x = i\n",
    "            cnt = 1\n",
    "            while x != 1:\n",
    "                if x % 2 == 0:\n",
    "                    x //= 2\n",
    "                else:\n",
    "                    x = 3*x + 1\n",
    "                if x < len(count) and count[x] != 0:    # Khi x quay về giá trị đã tính trước đó thì lấy luôn\n",
    "                    cnt += count[x]\n",
    "                    break\n",
    "                else:\n",
    "                    cnt += 1\n",
    "            count[i] = cnt\n",
    "        # print(count)\n",
    "        L = max(count)\n",
    "        x = count.index(L)\n",
    "        print(x, L)\n",
    "    else:\n",
    "        print(\"!! Nhập n nguyên dương\")\n",
    "except ValueError:\n",
    "    print(\"Đầu vào không hợp lệ\")"
   ]
  },
  {
   "cell_type": "code",
   "execution_count": 137,
   "id": "1ce5c912-3303-43be-be33-4d8553304b84",
   "metadata": {},
   "outputs": [
    {
     "name": "stdin",
     "output_type": "stream",
     "text": [
      "Nhập n = 10000000000\n"
     ]
    },
    {
     "name": "stdout",
     "output_type": "stream",
     "text": [
      "Có 110 ước số chẵn\n"
     ]
    }
   ],
   "source": [
    "# W4A11: Đếm ước số chẵn của số nguyên dương n với v n < 10^6\n",
    "\n",
    "import math\n",
    "\n",
    "try:\n",
    "    n = int(input(\"Nhập n =\"))\n",
    "    if n >= 1:\n",
    "        if n % 2 == 0:\n",
    "            count = 1\n",
    "            for i in range(2, math.isqrt(n)+1):\n",
    "                if (n % i == 0):\n",
    "                    if (i % 2 == 0):\n",
    "                        count += 1\n",
    "                    if (i != n // i) and (n // i) % 2 == 0:\n",
    "                        count += 1\n",
    "        else: \n",
    "            count = 0\n",
    "        print(f\"Có {count} ước số chẵn\")\n",
    "    else:\n",
    "        print(\"!! Nhập n nguyên dương\")\n",
    "except ValueError:\n",
    "    print(\"Đầu vào không hợp lệ\")"
   ]
  },
  {
   "cell_type": "code",
   "execution_count": 147,
   "id": "3c5876d2-ebfe-4869-947a-9b7d64a31996",
   "metadata": {},
   "outputs": [
    {
     "name": "stdin",
     "output_type": "stream",
     "text": [
      "Nhập số tiền X: 100000000000\n",
      "Nhập số tháng N: 24\n"
     ]
    },
    {
     "name": "stdout",
     "output_type": "stream",
     "text": [
      "Tổng tiền sau 24 tháng là 118224447551 đồng\n"
     ]
    }
   ],
   "source": [
    "# W4A12: Một người có tài khoản tiết kiệm ở ngân hàng và gửi vào X đồng với lãi suất là 0.7% mỗi tháng. \n",
    "# Viết chương trình tính số tiền sau N tháng người ấy rút được (cả gốc và lãi, bỏ qua phần lẻ thập phân).\n",
    "\n",
    "try:\n",
    "    X = float(input(\"Nhập số tiền X:\"))\n",
    "    N = int(input(\"Nhập số tháng N:\"))\n",
    "    if (X > 0) and (N >= 0):\n",
    "        r = 0.007\n",
    "        T = X * (1 + r) ** N\n",
    "        print(f\"Tổng tiền sau {N} tháng là {int(T)} đồng\")\n",
    "    else:\n",
    "        print(\"!! Nhập X > 0 và N >= 0\")\n",
    "except ValueError:\n",
    "    print(\"Đầu vào không hợp lệ\")"
   ]
  },
  {
   "cell_type": "code",
   "execution_count": 167,
   "id": "bfbbf744-cb77-4132-830f-b61be3a1c69a",
   "metadata": {},
   "outputs": [
    {
     "name": "stdin",
     "output_type": "stream",
     "text": [
      " 220 284\n"
     ]
    },
    {
     "name": "stdout",
     "output_type": "stream",
     "text": [
      "True\n"
     ]
    }
   ],
   "source": [
    "# W4A13: Kiểm tra cặp số thân thiết\n",
    "# Cặp số thân thiết là tổng ước của số này (trừ nó) bằng chính số còn lại\n",
    "\n",
    "import math\n",
    "\n",
    "def sum_divisor(n):\n",
    "    if n == 1:\n",
    "        return 0\n",
    "    s = 1\n",
    "    for i in range(2, math.isqrt(n) + 1):\n",
    "        if n % i == 0:\n",
    "            s += i\n",
    "            if i != (n // i):\n",
    "                s += n // i\n",
    "    return s\n",
    "    \n",
    "try:\n",
    "    a, b = map(int, input().split())\n",
    "    if (a > 0) and (b > 0):\n",
    "        if (sum_divisor(a) == b) and (sum_divisor(b) == a):\n",
    "            print(True)\n",
    "        else:\n",
    "            print(False)\n",
    "    else:\n",
    "        print(\"a b nguyên dương !!\")\n",
    "except ValueError:\n",
    "    print(\"Đầu vào không hợp lệ\")\n",
    "    "
   ]
  },
  {
   "cell_type": "code",
   "execution_count": 184,
   "id": "1458e1c3-0e43-42c5-8975-85a614d79af3",
   "metadata": {},
   "outputs": [
    {
     "name": "stdin",
     "output_type": "stream",
     "text": [
      " 810 390\n"
     ]
    },
    {
     "name": "stdout",
     "output_type": "stream",
     "text": [
      "30\n"
     ]
    }
   ],
   "source": [
    "# W4A14: Tìm ước chung lớn nhất của mn và n\n",
    "\n",
    "try:\n",
    "    m, n = map(int, input().split())\n",
    "    if (m > 0) and (n > 0):\n",
    "        while n != 0:\n",
    "            m, n = n, m % n\n",
    "        print(m)\n",
    "    else:\n",
    "        print(\"m n nguyên dương !!\")\n",
    "except ValueError:\n",
    "    print(\"Đầu vào không hợp lệ\")"
   ]
  },
  {
   "cell_type": "code",
   "execution_count": 192,
   "id": "7447e3dc-f5bb-4ea2-8300-f09d67979a59",
   "metadata": {},
   "outputs": [
    {
     "name": "stdin",
     "output_type": "stream",
     "text": [
      "Nhập số con: 1\n",
      "Nhập số chân: 4\n"
     ]
    },
    {
     "name": "stdout",
     "output_type": "stream",
     "text": [
      "valid\n",
      "Có 1 chó và 0 gà\n"
     ]
    }
   ],
   "source": [
    "# W4A15: Nhập tổng số con, tổng số chân của cả gà và chó, tìm xem có phù hợp không\n",
    "\n",
    "try:\n",
    "    A = int(input(\"Nhập số con:\"))\n",
    "    L = int(input(\"Nhập số chân:\"))\n",
    "\n",
    "    # Biện luận hệ phương trình: (x là chó, y là gà)\n",
    "    # x + y = A\n",
    "    # 4x + 2y = L\n",
    "    if (A > 0) and (L > 0) and (L % 2 == 0):\n",
    "        L = L // 2\n",
    "        x = L - A\n",
    "        y = A - x\n",
    "        if (x >= 0) and (y >= 0):\n",
    "            print(\"valid\")\n",
    "            print(f\"Có {x} chó và {y} gà\")\n",
    "        else:\n",
    "            print(\"invalid\")\n",
    "    else:\n",
    "        print(\"invalid\")\n",
    "except ValueError:\n",
    "    print(\"Đầu vào không hợp lệ\")\n",
    "    "
   ]
  }
 ],
 "metadata": {
  "kernelspec": {
   "display_name": "Python 3 (ipykernel)",
   "language": "python",
   "name": "python3"
  },
  "language_info": {
   "codemirror_mode": {
    "name": "ipython",
    "version": 3
   },
   "file_extension": ".py",
   "mimetype": "text/x-python",
   "name": "python",
   "nbconvert_exporter": "python",
   "pygments_lexer": "ipython3",
   "version": "3.13.7"
  }
 },
 "nbformat": 4,
 "nbformat_minor": 5
}
